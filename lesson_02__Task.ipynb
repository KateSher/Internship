{
  "nbformat": 4,
  "nbformat_minor": 0,
  "metadata": {
    "colab": {
      "name": "lesson_02_ Task.ipynb",
      "provenance": [],
      "collapsed_sections": []
    },
    "kernelspec": {
      "name": "python3",
      "display_name": "Python 3"
    },
    "language_info": {
      "name": "python"
    }
  },
  "cells": [
    {
      "cell_type": "code",
      "source": [
        "lst =  [[1, 3, 3, 4], [2, 1, 3, 5], [4, 0, 1, 7], [5, 2, 1, 0], [0, 4, 8, 3]]\n",
        "# сортировка списка по 2-му элементу вложенных списков (по возрастанию)\n",
        "sort = sorted(lst, key=lambda x: x[1])\n",
        "print(sort)"
      ],
      "metadata": {
        "colab": {
          "base_uri": "https://localhost:8080/"
        },
        "id": "GAN7we--4f4h",
        "outputId": "23dc9ac9-6d6b-411e-94f7-162f63ba6a46"
      },
      "execution_count": 1,
      "outputs": [
        {
          "output_type": "stream",
          "name": "stdout",
          "text": [
            "[[4, 0, 1, 7], [2, 1, 3, 5], [5, 2, 1, 0], [1, 3, 3, 4], [0, 4, 8, 3]]\n"
          ]
        }
      ]
    },
    {
      "cell_type": "code",
      "source": [
        "# создание словаря: ключи - 2-е элементы, значения – списки из остальных элементов\n",
        "dict = {i[1]:[i[0],i[2],i[3]] for i in sort}\n",
        "print(dict)"
      ],
      "metadata": {
        "colab": {
          "base_uri": "https://localhost:8080/"
        },
        "id": "JTIRkM1r4iqw",
        "outputId": "21816711-2c37-476e-d930-31aafcd55503"
      },
      "execution_count": 2,
      "outputs": [
        {
          "output_type": "stream",
          "name": "stdout",
          "text": [
            "{0: [4, 1, 7], 1: [2, 3, 5], 2: [5, 1, 0], 3: [1, 3, 4], 4: [0, 8, 3]}\n"
          ]
        }
      ]
    },
    {
      "cell_type": "code",
      "source": [
        "# сортировка значений словаря по убыванию\n",
        "for k, v in dict.items():\n",
        "    dict[k] = sorted(v, reverse=True) \n",
        "print(dict)"
      ],
      "metadata": {
        "colab": {
          "base_uri": "https://localhost:8080/"
        },
        "id": "Farhy3Sc4k0B",
        "outputId": "825d67ba-57c3-4be1-ed27-b9523379ae31"
      },
      "execution_count": 3,
      "outputs": [
        {
          "output_type": "stream",
          "name": "stdout",
          "text": [
            "{0: [7, 4, 1], 1: [5, 3, 2], 2: [5, 1, 0], 3: [4, 3, 1], 4: [8, 3, 0]}\n"
          ]
        }
      ]
    },
    {
      "cell_type": "code",
      "source": [
        "# получение множества из всех значений полученного словаря\n",
        "set1 = set()\n",
        "for i in dict.values():\n",
        "    set1.update(i)\n",
        "print(set1)"
      ],
      "metadata": {
        "colab": {
          "base_uri": "https://localhost:8080/"
        },
        "id": "C5omymQt4qIO",
        "outputId": "9d050602-d5f4-42ae-92fc-0c732a02c85a"
      },
      "execution_count": 4,
      "outputs": [
        {
          "output_type": "stream",
          "name": "stdout",
          "text": [
            "{0, 1, 2, 3, 4, 5, 7, 8}\n"
          ]
        }
      ]
    },
    {
      "cell_type": "code",
      "source": [
        "# преобразование множества в строку\n",
        "str1 = str()\n",
        "for i in set1:\n",
        "    str1 += str(i) + ' '\n",
        "print(str1)"
      ],
      "metadata": {
        "colab": {
          "base_uri": "https://localhost:8080/"
        },
        "id": "v34JyFPG5Y1l",
        "outputId": "ce16abda-16b6-4693-f6fa-abf762799b9d"
      },
      "execution_count": 5,
      "outputs": [
        {
          "output_type": "stream",
          "name": "stdout",
          "text": [
            "0 1 2 3 4 5 7 8 \n"
          ]
        }
      ]
    }
  ]
}