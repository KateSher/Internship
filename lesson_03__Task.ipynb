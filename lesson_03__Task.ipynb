{
  "nbformat": 4,
  "nbformat_minor": 0,
  "metadata": {
    "colab": {
      "name": "lesson_03_ Task.ipynb",
      "provenance": [],
      "collapsed_sections": []
    },
    "kernelspec": {
      "name": "python3",
      "display_name": "Python 3"
    },
    "language_info": {
      "name": "python"
    }
  },
  "cells": [
    {
      "cell_type": "code",
      "execution_count": 31,
      "metadata": {
        "id": "Mtk_P957ONLV"
      },
      "outputs": [],
      "source": [
        "# создание генератора чисел в диапазоне [5;90]\n",
        "def generator():\n",
        "    for x in range(5, 91):\n",
        "        yield x"
      ]
    },
    {
      "cell_type": "code",
      "source": [
        "# вычисление функции f1(x)\n",
        "f1 = lambda x: x / (x + 100)"
      ],
      "metadata": {
        "id": "-KXCo9OmTGII"
      },
      "execution_count": 32,
      "outputs": []
    },
    {
      "cell_type": "code",
      "source": [
        "# вычисление функции f2(x)\n",
        "f2 = lambda x: 1 / x"
      ],
      "metadata": {
        "id": "dE95K5azTZbX"
      },
      "execution_count": 33,
      "outputs": []
    },
    {
      "cell_type": "code",
      "source": [
        "# вычисление функции f3(x)\n",
        "f3 = lambda x, f1, f2: 20 * (f1(x) + f2(x)) / x"
      ],
      "metadata": {
        "id": "rmYZzdwmU-Y1"
      },
      "execution_count": 34,
      "outputs": []
    },
    {
      "cell_type": "code",
      "source": [
        "# создание словаря с ключами х и значениями f1, f2, f3\n",
        "dct = dict([(x, [f1(x), f2(x), f3(x, f1, f2)]) for x in generator()])"
      ],
      "metadata": {
        "id": "wEqFWcReW8PS"
      },
      "execution_count": 35,
      "outputs": []
    },
    {
      "cell_type": "code",
      "source": [
        "# запись результатов вычислений в CSV-файл\n",
        "import csv\n",
        "\n",
        "from google.colab import drive # получение доступа к Google диску\n",
        "drive.mount('/content/drive')\n",
        "\n",
        "with open('drive/MyDrive/Colab Notebooks/Internship/lesson_03/result.csv', 'w') as my_file:\n",
        "    my_csv_writer = csv.writer(my_file)\n",
        "    my_csv_writer.writerow(['x', 'f1', 'f2', 'f3']) # заголовок\n",
        "    for k, v in dct.items():\n",
        "        my_csv_writer.writerow([k, v[0], v[1], v[2]])"
      ],
      "metadata": {
        "colab": {
          "base_uri": "https://localhost:8080/"
        },
        "id": "5M-5ix6QZxSz",
        "outputId": "e7fc6c3a-68b2-401f-c1bc-72494ad7d293"
      },
      "execution_count": 36,
      "outputs": [
        {
          "output_type": "stream",
          "name": "stdout",
          "text": [
            "Drive already mounted at /content/drive; to attempt to forcibly remount, call drive.mount(\"/content/drive\", force_remount=True).\n"
          ]
        }
      ]
    },
    {
      "cell_type": "code",
      "source": [
        "# чтение CSV-файла\n",
        "import pprint\n",
        "\n",
        "lst_types = [int, float, float, float]\n",
        "result = []\n",
        "with open('drive/MyDrive/Colab Notebooks/Internship/lesson_03/result.csv') as my_file:\n",
        "    my_csv_reader = csv.reader(my_file)\n",
        "    headers = next(my_csv_reader)\n",
        "    for row in my_csv_reader:     \n",
        "        # Применение преобразований к элементам строки\n",
        "        row = list(convert(value) for convert, value in zip(lst_types, row))\n",
        "        result.append(row)\n",
        "pprint.pprint(result[:10]) # часть результата чтения CSV-файла"
      ],
      "metadata": {
        "colab": {
          "base_uri": "https://localhost:8080/"
        },
        "id": "GWsI71XVdA_s",
        "outputId": "ecbb61db-3657-4274-be20-756a1d0f00c0"
      },
      "execution_count": 37,
      "outputs": [
        {
          "output_type": "stream",
          "name": "stdout",
          "text": [
            "[[5, 0.047619047619047616, 0.2, 0.9904761904761905],\n",
            " [6, 0.05660377358490566, 0.16666666666666666, 0.7442348008385745],\n",
            " [7, 0.06542056074766354, 0.14285714285714285, 0.5950791531565898],\n",
            " [8, 0.07407407407407407, 0.125, 0.4976851851851852],\n",
            " [9, 0.08256880733944955, 0.1111111111111111, 0.43039981877902367],\n",
            " [10, 0.09090909090909091, 0.1, 0.38181818181818183],\n",
            " [11, 0.0990990990990991, 0.09090909090909091, 0.34546943637852734],\n",
            " [12, 0.10714285714285714, 0.08333333333333333, 0.31746031746031744],\n",
            " [13, 0.11504424778761062, 0.07692307692307693, 0.2953343457087501],\n",
            " [14, 0.12280701754385964, 0.07142857142857142, 0.2774794128177587]]\n"
          ]
        }
      ]
    },
    {
      "cell_type": "code",
      "source": [
        "# сохранение списка в JSON-файл\n",
        "import json\n",
        "\n",
        "with open('drive/MyDrive/Colab Notebooks/Internship/lesson_03/result.json', 'w') as my_file:\n",
        "    json.dump(result, my_file, indent=4)"
      ],
      "metadata": {
        "id": "_57TnIKVoHPL"
      },
      "execution_count": 38,
      "outputs": []
    }
  ]
}