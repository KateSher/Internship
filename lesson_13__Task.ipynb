{
  "nbformat": 4,
  "nbformat_minor": 0,
  "metadata": {
    "colab": {
      "name": "lesson_13_ Task.ipynb",
      "provenance": [],
      "collapsed_sections": []
    },
    "kernelspec": {
      "name": "python3",
      "display_name": "Python 3"
    },
    "language_info": {
      "name": "python"
    }
  },
  "cells": [
    {
      "cell_type": "code",
      "source": [
        "from google.colab import drive\n",
        "drive.mount('/content/drive')\n",
        "from sklearn.feature_extraction.text import CountVectorizer, TfidfTransformer\n",
        "from sklearn.feature_extraction import DictVectorizer\n",
        "import pandas as pd\n",
        "import json\n",
        "import glob"
      ],
      "metadata": {
        "colab": {
          "base_uri": "https://localhost:8080/"
        },
        "id": "8_JlpyFjWBw7",
        "outputId": "4afa4432-e10f-4552-e3e5-2d10e013fc07"
      },
      "execution_count": 73,
      "outputs": [
        {
          "output_type": "stream",
          "name": "stdout",
          "text": [
            "Drive already mounted at /content/drive; to attempt to forcibly remount, call drive.mount(\"/content/drive\", force_remount=True).\n"
          ]
        }
      ]
    },
    {
      "cell_type": "markdown",
      "source": [
        "### 1. Загрузка данных из текстовых файлов, находящихся в каталоге docs"
      ],
      "metadata": {
        "id": "5KMjfqjilobS"
      }
    },
    {
      "cell_type": "code",
      "source": [
        "file_list = glob.glob('/'.join(['drive/MyDrive/Colab Notebooks/Internship/lesson_13/docs', '*']))\n",
        "docs = []\n",
        "for file_name in file_list:\n",
        "    print(file_name)\n",
        "\n",
        "    f = open(file_name)\n",
        "    result = f.read()\n",
        "    docs.append(result)"
      ],
      "metadata": {
        "colab": {
          "base_uri": "https://localhost:8080/"
        },
        "id": "t4rE__rSQ3x-",
        "outputId": "5ee54fdd-2714-44a5-bf48-36c076e0d66a"
      },
      "execution_count": 74,
      "outputs": [
        {
          "output_type": "stream",
          "name": "stdout",
          "text": [
            "drive/MyDrive/Colab Notebooks/Internship/lesson_13/docs/Douglas Adams - Hitchhikers Trilogy - Hitchhikers Guide to the Galaxy.txt\n",
            "drive/MyDrive/Colab Notebooks/Internship/lesson_13/docs/Douglas Adams - Hitchhikers Trilogy - So Long, and Thanks for All the Fish.txt\n",
            "drive/MyDrive/Colab Notebooks/Internship/lesson_13/docs/Douglas Adams - Hitchhikers Trilogy - Restaurant End of the Universe.txt\n",
            "drive/MyDrive/Colab Notebooks/Internship/lesson_13/docs/Jane Austen - Northanger Abbey.txt\n",
            "drive/MyDrive/Colab Notebooks/Internship/lesson_13/docs/Douglas Adams - The Long Dark Tea Time of the Soul.txt\n",
            "drive/MyDrive/Colab Notebooks/Internship/lesson_13/docs/Douglas Adams - Hitchhikers Trilogy - Mostly Harmless.txt\n",
            "drive/MyDrive/Colab Notebooks/Internship/lesson_13/docs/Jane Austen - Pride and Prejudice.txt\n",
            "drive/MyDrive/Colab Notebooks/Internship/lesson_13/docs/Jane Austen - Persuasion.txt\n",
            "drive/MyDrive/Colab Notebooks/Internship/lesson_13/docs/Edwin Arnold - Guliver of Mars.txt\n",
            "drive/MyDrive/Colab Notebooks/Internship/lesson_13/docs/Poul Anderson - In Memoriam.txt\n"
          ]
        }
      ]
    },
    {
      "cell_type": "markdown",
      "source": [
        "### 2. Вычисление статистической меры словарной частоты (Tf-idf) для всей выборки из текстовых документов"
      ],
      "metadata": {
        "id": "bzFvhm7u0ZR0"
      }
    },
    {
      "cell_type": "code",
      "source": [
        "vectorizer = CountVectorizer()\n",
        "transformer = TfidfTransformer()\n",
        "count = vectorizer.fit_transform(docs)\n",
        "tfidf_matrix = transformer.fit_transform(count)\n",
        "print(tfidf_matrix.toarray())"
      ],
      "metadata": {
        "colab": {
          "base_uri": "https://localhost:8080/"
        },
        "id": "XiP1jPAl0Sph",
        "outputId": "e2742672-4b8b-49b4-e363-21a51167d97f"
      },
      "execution_count": 75,
      "outputs": [
        {
          "output_type": "stream",
          "name": "stdout",
          "text": [
            "[[0.         0.00038137 0.         ... 0.         0.0019267  0.00054596]\n",
            " [0.         0.         0.         ... 0.         0.         0.        ]\n",
            " [0.         0.         0.         ... 0.         0.         0.        ]\n",
            " ...\n",
            " [0.         0.         0.         ... 0.         0.         0.        ]\n",
            " [0.         0.         0.         ... 0.         0.         0.        ]\n",
            " [0.         0.01541767 0.         ... 0.         0.         0.        ]]\n"
          ]
        }
      ]
    },
    {
      "cell_type": "markdown",
      "source": [
        "### 3. Возвращение словаря признаков (слов) с их индексами, упорядочивание его по возрастанию индекса и сохранение в JSON-файл"
      ],
      "metadata": {
        "id": "GO-tqOCG1SD4"
      }
    },
    {
      "cell_type": "code",
      "source": [
        "bag = vectorizer.fit_transform(docs)\n",
        "# print(vectorizer.vocabulary_)\n",
        "print(bag.toarray())\n",
        "\n",
        "# вывод части словаря vectorizer.vocabulary_ для наглядности\n",
        "lst = list(vectorizer.vocabulary_.items())\n",
        "part_vect_voc = dict(lst[:11])\n",
        "print(part_vect_voc)"
      ],
      "metadata": {
        "colab": {
          "base_uri": "https://localhost:8080/"
        },
        "id": "MhoXL0LC8F8d",
        "outputId": "d34656a0-dfb0-420d-ecd6-5856469037e5"
      },
      "execution_count": 76,
      "outputs": [
        {
          "output_type": "stream",
          "name": "stdout",
          "text": [
            "[[0 1 0 ... 0 3 1]\n",
            " [0 0 0 ... 0 0 0]\n",
            " [0 0 0 ... 0 0 0]\n",
            " ...\n",
            " [0 0 0 ... 0 0 0]\n",
            " [0 0 0 ... 0 0 0]\n",
            " [0 4 0 ... 0 0 0]]\n",
            "{'douglas': 6167, 'adams': 521, 'the': 20388, 'hitch': 9806, 'hikers': 9768, 'guide': 9247, 'to': 20703, 'galaxy': 8576, 'fantazy': 7536, '1990': 56, 'based': 1857}\n"
          ]
        }
      ]
    },
    {
      "cell_type": "code",
      "source": [
        "# упорядочивание словаря признаков по возрастанию индекса\n",
        "sorted_tuple = sorted(vectorizer.vocabulary_.items(), key=lambda i: i[1])\n",
        "sorted_vocabulary = dict(sorted_tuple)\n",
        "# print(sorted_vocabulary)\n",
        "\n",
        "# вывод части словаря sorted_tuple для наглядности\n",
        "part_sort_voc = dict(sorted_tuple[:11])\n",
        "print(part_sort_voc)"
      ],
      "metadata": {
        "colab": {
          "base_uri": "https://localhost:8080/"
        },
        "id": "BdHT9CSLCsZk",
        "outputId": "b34798b7-78e0-4699-a711-b4285a06a241"
      },
      "execution_count": 77,
      "outputs": [
        {
          "output_type": "stream",
          "name": "stdout",
          "text": [
            "{'00': 0, '000': 1, '004': 2, '03758': 3, '040700': 4, '10': 5, '100': 6, '1001': 7, '1061': 8, '1076': 9, '1078': 10}\n"
          ]
        }
      ]
    },
    {
      "cell_type": "code",
      "source": [
        "# сохранение словаря в JSON-файл\n",
        "with open('drive/MyDrive/Colab Notebooks/Internship/lesson_13/sorted_vocabulary.json', 'w') as my_file:\n",
        "    json.dump(sorted_vocabulary, my_file, indent=4)"
      ],
      "metadata": {
        "id": "SOhkwMvhGENe"
      },
      "execution_count": 78,
      "outputs": []
    },
    {
      "cell_type": "markdown",
      "source": [
        "### 4. Создание Pandas датафрейма, индексы в котором – слова из сформированного словаря, а значения – соответствующие элементы Tf-idf-матрицы\n"
      ],
      "metadata": {
        "id": "HeGFiYYFGq-V"
      }
    },
    {
      "cell_type": "code",
      "source": [
        "# транспонирование и уплотнение матрицы\n",
        "new_matrix = tfidf_matrix.T.todense()\n",
        "print(new_matrix)"
      ],
      "metadata": {
        "colab": {
          "base_uri": "https://localhost:8080/"
        },
        "id": "pMZ0317XPrku",
        "outputId": "1c6b609f-fa42-4401-9948-6ce70a3bed7a"
      },
      "execution_count": 79,
      "outputs": [
        {
          "output_type": "stream",
          "name": "stdout",
          "text": [
            "[[0.         0.         0.         ... 0.         0.         0.        ]\n",
            " [0.00038137 0.         0.         ... 0.         0.         0.01541767]\n",
            " [0.         0.         0.         ... 0.         0.         0.        ]\n",
            " ...\n",
            " [0.         0.         0.         ... 0.         0.         0.        ]\n",
            " [0.0019267  0.         0.         ... 0.         0.         0.        ]\n",
            " [0.00054596 0.         0.         ... 0.         0.         0.        ]]\n"
          ]
        }
      ]
    },
    {
      "cell_type": "code",
      "source": [
        "# создание векторизатора словаря\n",
        "dictvectorizer = DictVectorizer(sparse=False)\n",
        "\n",
        "# конвертирование словаря в матрицу признаков\n",
        "features = dictvectorizer.fit_transform(sorted_vocabulary)\n",
        "feature_names = dictvectorizer.get_feature_names_out()\n",
        "name_columns = ['doc_{}'.format(i) for i in range(1, 11)]\n",
        "\n",
        "# итоговый Pandas датафрейм\n",
        "pd.DataFrame(new_matrix, index = feature_names, columns = name_columns)"
      ],
      "metadata": {
        "colab": {
          "base_uri": "https://localhost:8080/",
          "height": 423
        },
        "id": "HfWQAalDSGSr",
        "outputId": "426134c4-3dc9-40f2-a86e-194b74ba1795"
      },
      "execution_count": 80,
      "outputs": [
        {
          "output_type": "execute_result",
          "data": {
            "text/html": [
              "\n",
              "  <div id=\"df-d7c6c75a-f1d7-4880-ba34-4cf432d56dfd\">\n",
              "    <div class=\"colab-df-container\">\n",
              "      <div>\n",
              "<style scoped>\n",
              "    .dataframe tbody tr th:only-of-type {\n",
              "        vertical-align: middle;\n",
              "    }\n",
              "\n",
              "    .dataframe tbody tr th {\n",
              "        vertical-align: top;\n",
              "    }\n",
              "\n",
              "    .dataframe thead th {\n",
              "        text-align: right;\n",
              "    }\n",
              "</style>\n",
              "<table border=\"1\" class=\"dataframe\">\n",
              "  <thead>\n",
              "    <tr style=\"text-align: right;\">\n",
              "      <th></th>\n",
              "      <th>doc_1</th>\n",
              "      <th>doc_2</th>\n",
              "      <th>doc_3</th>\n",
              "      <th>doc_4</th>\n",
              "      <th>doc_5</th>\n",
              "      <th>doc_6</th>\n",
              "      <th>doc_7</th>\n",
              "      <th>doc_8</th>\n",
              "      <th>doc_9</th>\n",
              "      <th>doc_10</th>\n",
              "    </tr>\n",
              "  </thead>\n",
              "  <tbody>\n",
              "    <tr>\n",
              "      <th>00</th>\n",
              "      <td>0.000000</td>\n",
              "      <td>0.0</td>\n",
              "      <td>0.000000</td>\n",
              "      <td>0.0</td>\n",
              "      <td>0.000380</td>\n",
              "      <td>0.000000</td>\n",
              "      <td>0.000000</td>\n",
              "      <td>0.0</td>\n",
              "      <td>0.0</td>\n",
              "      <td>0.000000</td>\n",
              "    </tr>\n",
              "    <tr>\n",
              "      <th>000</th>\n",
              "      <td>0.000381</td>\n",
              "      <td>0.0</td>\n",
              "      <td>0.000000</td>\n",
              "      <td>0.0</td>\n",
              "      <td>0.000226</td>\n",
              "      <td>0.000536</td>\n",
              "      <td>0.001311</td>\n",
              "      <td>0.0</td>\n",
              "      <td>0.0</td>\n",
              "      <td>0.015418</td>\n",
              "    </tr>\n",
              "    <tr>\n",
              "      <th>004</th>\n",
              "      <td>0.000000</td>\n",
              "      <td>0.0</td>\n",
              "      <td>0.000000</td>\n",
              "      <td>0.0</td>\n",
              "      <td>0.000000</td>\n",
              "      <td>0.000451</td>\n",
              "      <td>0.000000</td>\n",
              "      <td>0.0</td>\n",
              "      <td>0.0</td>\n",
              "      <td>0.000000</td>\n",
              "    </tr>\n",
              "    <tr>\n",
              "      <th>03758</th>\n",
              "      <td>0.000642</td>\n",
              "      <td>0.0</td>\n",
              "      <td>0.000000</td>\n",
              "      <td>0.0</td>\n",
              "      <td>0.000000</td>\n",
              "      <td>0.000000</td>\n",
              "      <td>0.000000</td>\n",
              "      <td>0.0</td>\n",
              "      <td>0.0</td>\n",
              "      <td>0.000000</td>\n",
              "    </tr>\n",
              "    <tr>\n",
              "      <th>040700</th>\n",
              "      <td>0.000000</td>\n",
              "      <td>0.0</td>\n",
              "      <td>0.000000</td>\n",
              "      <td>0.0</td>\n",
              "      <td>0.000000</td>\n",
              "      <td>0.000000</td>\n",
              "      <td>0.000000</td>\n",
              "      <td>0.0</td>\n",
              "      <td>0.0</td>\n",
              "      <td>0.006491</td>\n",
              "    </tr>\n",
              "    <tr>\n",
              "      <th>...</th>\n",
              "      <td>...</td>\n",
              "      <td>...</td>\n",
              "      <td>...</td>\n",
              "      <td>...</td>\n",
              "      <td>...</td>\n",
              "      <td>...</td>\n",
              "      <td>...</td>\n",
              "      <td>...</td>\n",
              "      <td>...</td>\n",
              "      <td>...</td>\n",
              "    </tr>\n",
              "    <tr>\n",
              "      <th>zoom</th>\n",
              "      <td>0.000546</td>\n",
              "      <td>0.0</td>\n",
              "      <td>0.000000</td>\n",
              "      <td>0.0</td>\n",
              "      <td>0.000000</td>\n",
              "      <td>0.000384</td>\n",
              "      <td>0.000000</td>\n",
              "      <td>0.0</td>\n",
              "      <td>0.0</td>\n",
              "      <td>0.000000</td>\n",
              "    </tr>\n",
              "    <tr>\n",
              "      <th>zowee</th>\n",
              "      <td>0.000000</td>\n",
              "      <td>0.0</td>\n",
              "      <td>0.000535</td>\n",
              "      <td>0.0</td>\n",
              "      <td>0.000000</td>\n",
              "      <td>0.000000</td>\n",
              "      <td>0.000000</td>\n",
              "      <td>0.0</td>\n",
              "      <td>0.0</td>\n",
              "      <td>0.000000</td>\n",
              "    </tr>\n",
              "    <tr>\n",
              "      <th>zwingler</th>\n",
              "      <td>0.000000</td>\n",
              "      <td>0.0</td>\n",
              "      <td>0.000000</td>\n",
              "      <td>0.0</td>\n",
              "      <td>0.000000</td>\n",
              "      <td>0.000902</td>\n",
              "      <td>0.000000</td>\n",
              "      <td>0.0</td>\n",
              "      <td>0.0</td>\n",
              "      <td>0.000000</td>\n",
              "    </tr>\n",
              "    <tr>\n",
              "      <th>zz</th>\n",
              "      <td>0.001927</td>\n",
              "      <td>0.0</td>\n",
              "      <td>0.000000</td>\n",
              "      <td>0.0</td>\n",
              "      <td>0.000000</td>\n",
              "      <td>0.000000</td>\n",
              "      <td>0.000000</td>\n",
              "      <td>0.0</td>\n",
              "      <td>0.0</td>\n",
              "      <td>0.000000</td>\n",
              "    </tr>\n",
              "    <tr>\n",
              "      <th>zz9</th>\n",
              "      <td>0.000546</td>\n",
              "      <td>0.0</td>\n",
              "      <td>0.000000</td>\n",
              "      <td>0.0</td>\n",
              "      <td>0.000000</td>\n",
              "      <td>0.000384</td>\n",
              "      <td>0.000000</td>\n",
              "      <td>0.0</td>\n",
              "      <td>0.0</td>\n",
              "      <td>0.000000</td>\n",
              "    </tr>\n",
              "  </tbody>\n",
              "</table>\n",
              "<p>23138 rows × 10 columns</p>\n",
              "</div>\n",
              "      <button class=\"colab-df-convert\" onclick=\"convertToInteractive('df-d7c6c75a-f1d7-4880-ba34-4cf432d56dfd')\"\n",
              "              title=\"Convert this dataframe to an interactive table.\"\n",
              "              style=\"display:none;\">\n",
              "        \n",
              "  <svg xmlns=\"http://www.w3.org/2000/svg\" height=\"24px\"viewBox=\"0 0 24 24\"\n",
              "       width=\"24px\">\n",
              "    <path d=\"M0 0h24v24H0V0z\" fill=\"none\"/>\n",
              "    <path d=\"M18.56 5.44l.94 2.06.94-2.06 2.06-.94-2.06-.94-.94-2.06-.94 2.06-2.06.94zm-11 1L8.5 8.5l.94-2.06 2.06-.94-2.06-.94L8.5 2.5l-.94 2.06-2.06.94zm10 10l.94 2.06.94-2.06 2.06-.94-2.06-.94-.94-2.06-.94 2.06-2.06.94z\"/><path d=\"M17.41 7.96l-1.37-1.37c-.4-.4-.92-.59-1.43-.59-.52 0-1.04.2-1.43.59L10.3 9.45l-7.72 7.72c-.78.78-.78 2.05 0 2.83L4 21.41c.39.39.9.59 1.41.59.51 0 1.02-.2 1.41-.59l7.78-7.78 2.81-2.81c.8-.78.8-2.07 0-2.86zM5.41 20L4 18.59l7.72-7.72 1.47 1.35L5.41 20z\"/>\n",
              "  </svg>\n",
              "      </button>\n",
              "      \n",
              "  <style>\n",
              "    .colab-df-container {\n",
              "      display:flex;\n",
              "      flex-wrap:wrap;\n",
              "      gap: 12px;\n",
              "    }\n",
              "\n",
              "    .colab-df-convert {\n",
              "      background-color: #E8F0FE;\n",
              "      border: none;\n",
              "      border-radius: 50%;\n",
              "      cursor: pointer;\n",
              "      display: none;\n",
              "      fill: #1967D2;\n",
              "      height: 32px;\n",
              "      padding: 0 0 0 0;\n",
              "      width: 32px;\n",
              "    }\n",
              "\n",
              "    .colab-df-convert:hover {\n",
              "      background-color: #E2EBFA;\n",
              "      box-shadow: 0px 1px 2px rgba(60, 64, 67, 0.3), 0px 1px 3px 1px rgba(60, 64, 67, 0.15);\n",
              "      fill: #174EA6;\n",
              "    }\n",
              "\n",
              "    [theme=dark] .colab-df-convert {\n",
              "      background-color: #3B4455;\n",
              "      fill: #D2E3FC;\n",
              "    }\n",
              "\n",
              "    [theme=dark] .colab-df-convert:hover {\n",
              "      background-color: #434B5C;\n",
              "      box-shadow: 0px 1px 3px 1px rgba(0, 0, 0, 0.15);\n",
              "      filter: drop-shadow(0px 1px 2px rgba(0, 0, 0, 0.3));\n",
              "      fill: #FFFFFF;\n",
              "    }\n",
              "  </style>\n",
              "\n",
              "      <script>\n",
              "        const buttonEl =\n",
              "          document.querySelector('#df-d7c6c75a-f1d7-4880-ba34-4cf432d56dfd button.colab-df-convert');\n",
              "        buttonEl.style.display =\n",
              "          google.colab.kernel.accessAllowed ? 'block' : 'none';\n",
              "\n",
              "        async function convertToInteractive(key) {\n",
              "          const element = document.querySelector('#df-d7c6c75a-f1d7-4880-ba34-4cf432d56dfd');\n",
              "          const dataTable =\n",
              "            await google.colab.kernel.invokeFunction('convertToInteractive',\n",
              "                                                     [key], {});\n",
              "          if (!dataTable) return;\n",
              "\n",
              "          const docLinkHtml = 'Like what you see? Visit the ' +\n",
              "            '<a target=\"_blank\" href=https://colab.research.google.com/notebooks/data_table.ipynb>data table notebook</a>'\n",
              "            + ' to learn more about interactive tables.';\n",
              "          element.innerHTML = '';\n",
              "          dataTable['output_type'] = 'display_data';\n",
              "          await google.colab.output.renderOutput(dataTable, element);\n",
              "          const docLink = document.createElement('div');\n",
              "          docLink.innerHTML = docLinkHtml;\n",
              "          element.appendChild(docLink);\n",
              "        }\n",
              "      </script>\n",
              "    </div>\n",
              "  </div>\n",
              "  "
            ],
            "text/plain": [
              "             doc_1  doc_2     doc_3  doc_4  ...     doc_7  doc_8  doc_9    doc_10\n",
              "00        0.000000    0.0  0.000000    0.0  ...  0.000000    0.0    0.0  0.000000\n",
              "000       0.000381    0.0  0.000000    0.0  ...  0.001311    0.0    0.0  0.015418\n",
              "004       0.000000    0.0  0.000000    0.0  ...  0.000000    0.0    0.0  0.000000\n",
              "03758     0.000642    0.0  0.000000    0.0  ...  0.000000    0.0    0.0  0.000000\n",
              "040700    0.000000    0.0  0.000000    0.0  ...  0.000000    0.0    0.0  0.006491\n",
              "...            ...    ...       ...    ...  ...       ...    ...    ...       ...\n",
              "zoom      0.000546    0.0  0.000000    0.0  ...  0.000000    0.0    0.0  0.000000\n",
              "zowee     0.000000    0.0  0.000535    0.0  ...  0.000000    0.0    0.0  0.000000\n",
              "zwingler  0.000000    0.0  0.000000    0.0  ...  0.000000    0.0    0.0  0.000000\n",
              "zz        0.001927    0.0  0.000000    0.0  ...  0.000000    0.0    0.0  0.000000\n",
              "zz9       0.000546    0.0  0.000000    0.0  ...  0.000000    0.0    0.0  0.000000\n",
              "\n",
              "[23138 rows x 10 columns]"
            ]
          },
          "metadata": {},
          "execution_count": 80
        }
      ]
    }
  ]
}