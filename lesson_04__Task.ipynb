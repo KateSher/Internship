{
  "nbformat": 4,
  "nbformat_minor": 0,
  "metadata": {
    "colab": {
      "name": "lesson_04_ Task.ipynb",
      "provenance": [],
      "collapsed_sections": []
    },
    "kernelspec": {
      "name": "python3",
      "display_name": "Python 3"
    },
    "language_info": {
      "name": "python"
    }
  },
  "cells": [
    {
      "cell_type": "code",
      "execution_count": null,
      "metadata": {
        "id": "hGxLtdIvJXWh"
      },
      "outputs": [],
      "source": [
        "# базовый класс\n",
        "class Shape:\n",
        "    def __init__(self, x, y):\n",
        "        self.x = x\n",
        "        self.y = y\n",
        "    @staticmethod\n",
        "    def get_distance(c1, c2): # вычисление расстояния между двумя фигурами\n",
        "        return ((c1.x - c2.x) ** 2 + (c1.y - c2.y) ** 2) ** 0.5"
      ]
    },
    {
      "cell_type": "code",
      "source": [
        "# круг\n",
        "class Circle(Shape):\n",
        "    pi = 3.14159\n",
        "    def __init__(self, r=1, x=0, y=0):\n",
        "        super().__init__(x, y)\n",
        "        self.radius = r\n",
        "    def get_center(self):\n",
        "        return self.x, self.y\n",
        "    def get_area(self):\n",
        "        return Circle.pi*self.radius**2 \n",
        "    def move(self, x_new, y_new):\n",
        "        self.x = x_new\n",
        "        self.y = y_new\n",
        "        return \"figure was moved:\" \n",
        "\n",
        "my_circle = Circle()\n",
        "\n",
        "print('center:', my_circle.get_center())\n",
        "print('area:', my_circle.get_area())\n",
        "print(my_circle.move(2, 3), ' x_new = ', my_circle.x, ',', ' y_new = ', my_circle.y, sep='')"
      ],
      "metadata": {
        "colab": {
          "base_uri": "https://localhost:8080/"
        },
        "id": "IQOQtkDFWrfe",
        "outputId": "d6622bf5-cc50-48f3-c877-12ee77f4fff7"
      },
      "execution_count": null,
      "outputs": [
        {
          "output_type": "stream",
          "name": "stdout",
          "text": [
            "center: (0, 0)\n",
            "area: 3.14159\n",
            "figure was moved: x_new = 2, y_new = 3\n"
          ]
        }
      ]
    },
    {
      "cell_type": "code",
      "source": [
        "# квадрат\n",
        "class Square(Shape):\n",
        "    def __init__(self, side=1, x=0, y=0):\n",
        "        super().__init__(x, y)\n",
        "        self.side = side\n",
        "    def get_center(self):\n",
        "        return self.x, self.y\n",
        "    def get_vertex(self):\n",
        "        return [(self.x - self.side * 0.5, self.y + self.side * 0.5),\n",
        "                (self.x + self.side * 0.5, self.y + self.side * 0.5),\n",
        "                (self.x + self.side * 0.5, self.y - self.side * 0.5),\n",
        "                (self.x - self.side * 0.5, self.y - self.side * 0.5)]\n",
        "    def get_area(self):\n",
        "        return self.side ** 2\n",
        "    def move(self, x_new, y_new): \n",
        "        self.x = x_new\n",
        "        self.y = y_new\n",
        "        return \"figure was moved:\"\n",
        "\n",
        "my_square = Square()\n",
        "\n",
        "print('center:', my_square.get_center())\n",
        "print('vertex:', my_square.get_vertex())\n",
        "print('area:', my_square.get_area())\n",
        "print(my_square.move(5, 1), ' x_new = ', my_square.x, ',', ' y_new = ', my_square.y, sep='' )"
      ],
      "metadata": {
        "colab": {
          "base_uri": "https://localhost:8080/"
        },
        "id": "4i-2W7urWygH",
        "outputId": "fc9a75bf-0888-42fb-b65f-7e5baddfca10"
      },
      "execution_count": null,
      "outputs": [
        {
          "output_type": "stream",
          "name": "stdout",
          "text": [
            "center: (0, 0)\n",
            "vertex: [(-0.5, 0.5), (0.5, 0.5), (0.5, -0.5), (-0.5, -0.5)]\n",
            "area: 1\n",
            "figure was moved: x_new = 5, y_new = 1\n"
          ]
        }
      ]
    },
    {
      "cell_type": "code",
      "source": [
        "# треугольник\n",
        "class Triangle(Shape):\n",
        "    def __init__(self, side=1, x=0, y=0):\n",
        "        super().__init__(x, y)\n",
        "        self.side = side\n",
        "    def get_center(self):\n",
        "        return self.x, self.y\n",
        "    def get_vertex(self):\n",
        "        return [(self.x, self.y + self.side * 0.577), \n",
        "                (self.x - self.side * 0.5, self.y - self.side * 0.423),\n",
        "                (self.x + self.side * 0.5, self.y - self.side * 0.423)]\n",
        "    def get_area(self):\n",
        "        return self.side ** 2 * 3 ** 0.5 / 4\n",
        "    def move(self, x_new, y_new): \n",
        "        self.x = x_new\n",
        "        self.y = y_new\n",
        "        return \"figure was moved:\"\n",
        "\n",
        "my_triangle = Triangle()\n",
        "\n",
        "print('center:', my_triangle.get_center())\n",
        "print('vertex:', my_triangle.get_vertex())\n",
        "print('area:', my_triangle.get_area())\n",
        "print(my_triangle.move(1, 8), ' x_new = ', my_triangle.x, ',', ' y_new = ', my_triangle.y, sep='')"
      ],
      "metadata": {
        "colab": {
          "base_uri": "https://localhost:8080/"
        },
        "id": "h4vOJZFsW4h3",
        "outputId": "28976673-365b-4e13-dfc3-c6e865306270"
      },
      "execution_count": null,
      "outputs": [
        {
          "output_type": "stream",
          "name": "stdout",
          "text": [
            "center: (0, 0)\n",
            "vertex: [(0, 0.577), (-0.5, -0.423), (0.5, -0.423)]\n",
            "area: 0.4330127018922193\n",
            "figure was moved: x_new = 1, y_new = 8\n"
          ]
        }
      ]
    },
    {
      "cell_type": "code",
      "source": [
        "# расстояние между двумя фигурами\n",
        "c1 = Circle(4, 5, 6)\n",
        "c2 = Square(5, 6, 2)\n",
        "print('distance:', Shape.get_distance(c1, c2))"
      ],
      "metadata": {
        "colab": {
          "base_uri": "https://localhost:8080/"
        },
        "id": "F1pxU2ZyXBCI",
        "outputId": "708a3fc6-6252-402a-a349-96aed6d947d8"
      },
      "execution_count": null,
      "outputs": [
        {
          "output_type": "stream",
          "name": "stdout",
          "text": [
            "distance: 4.123105625617661\n"
          ]
        }
      ]
    }
  ]
}