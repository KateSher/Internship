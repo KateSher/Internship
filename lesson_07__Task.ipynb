{
  "nbformat": 4,
  "nbformat_minor": 0,
  "metadata": {
    "colab": {
      "name": "lesson_07_ Task.ipynb",
      "provenance": [],
      "collapsed_sections": [
        "pGuTSBpQeDbq",
        "4Wt1GLL5sp64",
        "vS6hMI63gVCp",
        "OIJgqkJmnqMT"
      ]
    },
    "kernelspec": {
      "name": "python3",
      "display_name": "Python 3"
    },
    "language_info": {
      "name": "python"
    }
  },
  "cells": [
    {
      "cell_type": "code",
      "execution_count": null,
      "metadata": {
        "id": "7AOSP30Lp-eT"
      },
      "outputs": [],
      "source": [
        "import numpy as np"
      ]
    },
    {
      "cell_type": "code",
      "source": [
        "data = np.random.randn(5, 4) # исходный двухмерный массив (выборка с нормальным стандартным распределением)\n",
        "data"
      ],
      "metadata": {
        "colab": {
          "base_uri": "https://localhost:8080/"
        },
        "id": "h8I4c2rS2Omy",
        "outputId": "a1650216-760a-4247-8271-fe029e8adc92"
      },
      "execution_count": null,
      "outputs": [
        {
          "output_type": "execute_result",
          "data": {
            "text/plain": [
              "array([[ 0.18690841,  1.6018296 ,  0.18874649, -0.13237342],\n",
              "       [-0.8271466 , -0.05786792,  1.80411106, -0.06284444],\n",
              "       [ 0.30918083, -0.35194786, -0.64168061, -0.57842455],\n",
              "       [-0.61732766,  0.06326159, -0.96198777, -0.25573585],\n",
              "       [-0.44544105, -0.21466774, -0.32679925,  0.15732642]])"
            ]
          },
          "metadata": {},
          "execution_count": 139
        }
      ]
    },
    {
      "cell_type": "markdown",
      "source": [
        "## Класс Unar_Operations"
      ],
      "metadata": {
        "id": "pGuTSBpQeDbq"
      }
    },
    {
      "cell_type": "code",
      "source": [
        "class Unar_Operations:\n",
        "    @staticmethod\n",
        "    def abs(A, *slice):    # абсолютное значение\n",
        "        if np.any(slice) > 0:\n",
        "            B = np.abs(A[slice[0]:slice[1], slice[2]:slice[3]])    # применение унарной операции к срезу из исходного массива\n",
        "            A = np.zeros(A.shape)                                  # создание нулевого массива размером как исходный массив\n",
        "            A[slice[0]:slice[1], slice[2]:slice[3]] = B            # замена части нулевого массива срезом из исходного массива, к которому применена унарная операция\n",
        "        else:\n",
        "            A = np.abs(A)                                          # применение унарной операции ко всему исходному массиву, если не задан срез      \n",
        "        return A\n",
        "\n",
        "\n",
        "    def fabs(A, *slice):    # абсолютное значение (для вещественных данных работает быстрее)\n",
        "        if np.any(slice) > 0:\n",
        "            B = np.fabs(A[slice[0]:slice[1], slice[2]:slice[3]])    \n",
        "            A = np.zeros(A.shape)                                  \n",
        "            A[slice[0]:slice[1], slice[2]:slice[3]] = B            \n",
        "        else:\n",
        "            A = np.fabs(A)                                             \n",
        "        return A\n",
        "\n",
        "\n",
        "    def sqrt(A, *slice):    # квадратный корень\n",
        "        if np.any(slice) > 0:\n",
        "            B = np.sqrt(np.fabs(A[slice[0]:slice[1], slice[2]:slice[3]]))    \n",
        "            A = np.zeros(A.shape)                                     \n",
        "            A[slice[0]:slice[1], slice[2]:slice[3]] = B      \n",
        "        else:\n",
        "            A = np.sqrt(np.fabs(A))              \n",
        "        return A\n",
        "\n",
        "\n",
        "    def square(A, *slice):    # возведение в квадрат\n",
        "        if np.any(slice) > 0:\n",
        "            B = np.square(A[slice[0]:slice[1], slice[2]:slice[3]])    \n",
        "            A = np.zeros(A.shape)                                     \n",
        "            A[slice[0]:slice[1], slice[2]:slice[3]] = B      \n",
        "        else:\n",
        "            A = np.square(A)            \n",
        "        return A\n",
        "\n",
        "\n",
        "    def exp(A, *slice):    # экспонента\n",
        "        if np.any(slice) > 0:\n",
        "            B = np.exp(A[slice[0]:slice[1], slice[2]:slice[3]])    \n",
        "            A = np.zeros(A.shape)                                     \n",
        "            A[slice[0]:slice[1], slice[2]:slice[3]] = B      \n",
        "        else:\n",
        "            A = np.exp(A)              \n",
        "        return A\n",
        "\n",
        "\n",
        "    def log10(A, *slice):    # десятичный логарифм\n",
        "        if np.any(slice) > 0:\n",
        "            B = np.log10(np.fabs(A[slice[0]:slice[1], slice[2]:slice[3]]))    \n",
        "            A = np.zeros(A.shape)                                     \n",
        "            A[slice[0]:slice[1], slice[2]:slice[3]] = B      \n",
        "        else:\n",
        "            A = np.log10(np.fabs(A))              \n",
        "        return A\n",
        "        \n",
        "\n",
        "    def sign(A, *slice):    # знак элемента: 1 (для положительных чисел), 0 (для нуля) или -1 (для отрицательных чисел)\n",
        "        if np.any(slice) > 0:\n",
        "            B = np.sign(A[slice[0]:slice[1], slice[2]:slice[3]])    \n",
        "            A = np.zeros(A.shape)                                     \n",
        "            A[slice[0]:slice[1], slice[2]:slice[3]] = B      \n",
        "        else:\n",
        "            A = np.sign(A)              \n",
        "        return A\n",
        "        \n",
        "\n",
        "    def ceil(A, *slice):    # наименьшее целое число, не меньшее его\n",
        "        if np.any(slice) > 0:\n",
        "            B = np.ceil(A[slice[0]:slice[1], slice[2]:slice[3]])    \n",
        "            A = np.zeros(A.shape)                                     \n",
        "            A[slice[0]:slice[1], slice[2]:slice[3]] = B      \n",
        "        else:\n",
        "            A = np.ceil(A)              \n",
        "        return A\n",
        "        \n",
        "\n",
        "    def floor(A, *slice):    # наибольшее целое число, не большее его\n",
        "        if np.any(slice) > 0:\n",
        "            B = np.floor(A[slice[0]:slice[1], slice[2]:slice[3]])    \n",
        "            A = np.zeros(A.shape)                                     \n",
        "            A[slice[0]:slice[1], slice[2]:slice[3]] = B      \n",
        "        else:\n",
        "            A = np.floor(A)              \n",
        "        return A\n",
        "        \n",
        "\n",
        "    def rint(A, *slice):    # округление до ближайшего целого\n",
        "        if np.any(slice) > 0:\n",
        "            B = np.rint(A[slice[0]:slice[1], slice[2]:slice[3]])    \n",
        "            A = np.zeros(A.shape)                                     \n",
        "            A[slice[0]:slice[1], slice[2]:slice[3]] = B      \n",
        "        else:\n",
        "            A = np.rint(A)              \n",
        "        return A\n",
        "        \n",
        "\n",
        "    def modf(A, *slice):    # дробные и целые части массива в виде отдельных массивов\n",
        "        if np.any(slice) > 0:\n",
        "            B = A[slice[0]:slice[1], slice[2]:slice[3]]    \n",
        "            A = np.zeros(A.shape)                                     \n",
        "            A[slice[0]:slice[1], slice[2]:slice[3]] = B\n",
        "            A = np.modf(A)     \n",
        "        else:\n",
        "            A = np.modf(A)              \n",
        "        return A\n",
        "        \n",
        "\n",
        "    def isnan(A, *slice):    # булев массив, показывающий, какие значения являются NaN\n",
        "        if np.any(slice) > 0:\n",
        "            B = np.isnan(A[slice[0]:slice[1], slice[2]:slice[3]])    \n",
        "            A = np.zeros(A.shape)                                     \n",
        "            A[slice[0]:slice[1], slice[2]:slice[3]] = B      \n",
        "        else:\n",
        "            A = np.isnan(A)              \n",
        "        return A\n",
        "        \n",
        "\n",
        "    def isfinite(A, *slice):    # булев массив, показывающий, какие элементы являются конечными (не inf и не NaN) \n",
        "        if np.any(slice) > 0:\n",
        "            B = np.isfinite(A[slice[0]:slice[1], slice[2]:slice[3]])    \n",
        "            A = np.zeros(A.shape)                                     \n",
        "            A[slice[0]:slice[1], slice[2]:slice[3]] = B      \n",
        "        else:\n",
        "            A = np.isfinite(A)              \n",
        "        return A\n",
        "        \n",
        "\n",
        "    def isinf(A, *slice):    # булев массив, показывающий, какие элементы являются бесконечными\n",
        "        if np.any(slice) > 0:\n",
        "            B = np.isinf(A[slice[0]:slice[1], slice[2]:slice[3]])    \n",
        "            A = np.zeros(A.shape)                                     \n",
        "            A[slice[0]:slice[1], slice[2]:slice[3]] = B      \n",
        "        else:\n",
        "            A = np.isinf(A)              \n",
        "        return A\n",
        "        \n",
        "\n",
        "    def cos(A, *slice):    # косинус\n",
        "        if np.any(slice) > 0:\n",
        "            B = np.cos(A[slice[0]:slice[1], slice[2]:slice[3]])    \n",
        "            A = np.zeros(A.shape)                                     \n",
        "            A[slice[0]:slice[1], slice[2]:slice[3]] = B      \n",
        "        else:\n",
        "            A = np.cos(A)              \n",
        "        return A\n",
        "        \n",
        "\n",
        "    def cosh(A, *slice):    # гиперболический косинус\n",
        "        if np.any(slice) > 0:\n",
        "            B = np.cosh(A[slice[0]:slice[1], slice[2]:slice[3]])    \n",
        "            A = np.zeros(A.shape)                                     \n",
        "            A[slice[0]:slice[1], slice[2]:slice[3]] = B      \n",
        "        else:\n",
        "            A = np.cosh(A)              \n",
        "        return A\n",
        "        \n",
        "\n",
        "    def sin(A, *slice):    # синус\n",
        "        if np.any(slice) > 0:\n",
        "            B = np.sin(A[slice[0]:slice[1], slice[2]:slice[3]])    \n",
        "            A = np.zeros(A.shape)                                     \n",
        "            A[slice[0]:slice[1], slice[2]:slice[3]] = B      \n",
        "        else:\n",
        "            A = np.sin(A)              \n",
        "        return A\n",
        "                \n",
        "\n",
        "    def sinh(A, *slice):    # гиперболический синус\n",
        "        if np.any(slice) > 0:\n",
        "            B = np.sinh(A[slice[0]:slice[1], slice[2]:slice[3]])    \n",
        "            A = np.zeros(A.shape)                                     \n",
        "            A[slice[0]:slice[1], slice[2]:slice[3]] = B      \n",
        "        else:\n",
        "            A = np.sinh(A)              \n",
        "        return A\n",
        "                \n",
        "\n",
        "    def tan(A, *slice):    # тангенс\n",
        "        if np.any(slice) > 0:\n",
        "            B = np.tan(A[slice[0]:slice[1], slice[2]:slice[3]])    \n",
        "            A = np.zeros(A.shape)                                     \n",
        "            A[slice[0]:slice[1], slice[2]:slice[3]] = B      \n",
        "        else:\n",
        "            A = np.tan(A)              \n",
        "        return A\n",
        "                \n",
        "\n",
        "    def tanh(A, *slice):    # гиперболический тангенс\n",
        "        if np.any(slice) > 0:\n",
        "            B = np.tanh(A[slice[0]:slice[1], slice[2]:slice[3]])    \n",
        "            A = np.zeros(A.shape)                                     \n",
        "            A[slice[0]:slice[1], slice[2]:slice[3]] = B      \n",
        "        else:\n",
        "            A = np.tanh(A)              \n",
        "        return A\n",
        "                \n",
        "\n",
        "    def arccos(A, *slice):    # арккосинус\n",
        "        if np.any(slice) > 0:\n",
        "            B = np.arccos(A[slice[0]:slice[1], slice[2]:slice[3]])    \n",
        "            A = np.zeros(A.shape)                                     \n",
        "            A[slice[0]:slice[1], slice[2]:slice[3]] = B      \n",
        "        else:\n",
        "            A = np.arccos(A)              \n",
        "        return A\n",
        "                \n",
        "\n",
        "    def arccosh(A, *slice):    # гиперболический арккосинус\n",
        "        if np.any(slice) > 0:\n",
        "            B = np.arccosh(A[slice[0]:slice[1], slice[2]:slice[3]])    \n",
        "            A = np.zeros(A.shape)                                     \n",
        "            A[slice[0]:slice[1], slice[2]:slice[3]] = B      \n",
        "        else:\n",
        "            A = np.arccosh(A)              \n",
        "        return A\n",
        "                \n",
        "\n",
        "    def arcsin(A, *slice):    # арксинус\n",
        "        if np.any(slice) > 0:\n",
        "            B = np.arcsin(A[slice[0]:slice[1], slice[2]:slice[3]])    \n",
        "            A = np.zeros(A.shape)                                     \n",
        "            A[slice[0]:slice[1], slice[2]:slice[3]] = B      \n",
        "        else:\n",
        "            A = np.arcsin(A)              \n",
        "        return A\n",
        "                        \n",
        "\n",
        "    def arcsinh(A, *slice):    # гиперболический арксинус\n",
        "        if np.any(slice) > 0:\n",
        "            B = np.arcsinh(A[slice[0]:slice[1], slice[2]:slice[3]])    \n",
        "            A = np.zeros(A.shape)                                     \n",
        "            A[slice[0]:slice[1], slice[2]:slice[3]] = B      \n",
        "        else:\n",
        "            A = np.arcsinh(A)              \n",
        "        return A\n",
        "                        \n",
        "\n",
        "    def arctan(A, *slice):    # арктангенс\n",
        "        if np.any(slice) > 0:\n",
        "            B = np.arctan(A[slice[0]:slice[1], slice[2]:slice[3]])    \n",
        "            A = np.zeros(A.shape)                                     \n",
        "            A[slice[0]:slice[1], slice[2]:slice[3]] = B      \n",
        "        else:\n",
        "            A = np.arctan(A)              \n",
        "        return A\n",
        "                        \n",
        "\n",
        "    def arctanh(A, *slice):    # гиперболический арктангенс\n",
        "        if np.any(slice) > 0:\n",
        "            B = np.arctanh(A[slice[0]:slice[1], slice[2]:slice[3]])    \n",
        "            A = np.zeros(A.shape)                                     \n",
        "            A[slice[0]:slice[1], slice[2]:slice[3]] = B      \n",
        "        else:\n",
        "            A = np.arctanh(A)              \n",
        "        return A\n",
        "                        \n",
        "\n",
        "    def logical_not(A, *slice):    # значение истинности not х\n",
        "        if np.any(slice) > 0:\n",
        "            B = np.logical_not(A[slice[0]:slice[1], slice[2]:slice[3]])    \n",
        "            A = np.zeros(A.shape)                                     \n",
        "            A[slice[0]:slice[1], slice[2]:slice[3]] = B      \n",
        "        else:\n",
        "            A = np.logical_not(A)              \n",
        "        return A\n",
        "\n",
        "\n",
        "    def array_3d (A, num):  # преобразование исходного двухмерного массива в трехмерный, копированием двухмерного массива вдоль третьей оси\n",
        "        A = np.repeat(A[np.newaxis, :, :], num, axis=0)\n",
        "        return A"
      ],
      "metadata": {
        "id": "2L39zLoRdTo-"
      },
      "execution_count": null,
      "outputs": []
    },
    {
      "cell_type": "markdown",
      "source": [
        "## Вывод результатов для исходного массива:"
      ],
      "metadata": {
        "id": "4Wt1GLL5sp64"
      }
    },
    {
      "cell_type": "code",
      "source": [
        "Unar_Operations.abs(data, 1, 3, 0, 3)     # абсолютное значение при заданном срезе"
      ],
      "metadata": {
        "colab": {
          "base_uri": "https://localhost:8080/"
        },
        "id": "Vunry17EInH_",
        "outputId": "c034c9a0-f837-4a9d-ffb6-d3613ff932d9"
      },
      "execution_count": null,
      "outputs": [
        {
          "output_type": "execute_result",
          "data": {
            "text/plain": [
              "array([[0.        , 0.        , 0.        , 0.        ],\n",
              "       [0.8271466 , 0.05786792, 1.80411106, 0.        ],\n",
              "       [0.30918083, 0.35194786, 0.64168061, 0.        ],\n",
              "       [0.        , 0.        , 0.        , 0.        ],\n",
              "       [0.        , 0.        , 0.        , 0.        ]])"
            ]
          },
          "metadata": {},
          "execution_count": 141
        }
      ]
    },
    {
      "cell_type": "code",
      "source": [
        "Unar_Operations.abs(data)     # абсолютное значение для целого массива"
      ],
      "metadata": {
        "colab": {
          "base_uri": "https://localhost:8080/"
        },
        "id": "-cvWOG5nd4EP",
        "outputId": "088c28e6-a9fe-4c69-acc1-2b67c0521b39"
      },
      "execution_count": null,
      "outputs": [
        {
          "output_type": "execute_result",
          "data": {
            "text/plain": [
              "array([[0.18690841, 1.6018296 , 0.18874649, 0.13237342],\n",
              "       [0.8271466 , 0.05786792, 1.80411106, 0.06284444],\n",
              "       [0.30918083, 0.35194786, 0.64168061, 0.57842455],\n",
              "       [0.61732766, 0.06326159, 0.96198777, 0.25573585],\n",
              "       [0.44544105, 0.21466774, 0.32679925, 0.15732642]])"
            ]
          },
          "metadata": {},
          "execution_count": 142
        }
      ]
    },
    {
      "cell_type": "code",
      "source": [
        "Unar_Operations.log10(data, 1, 3, 0, 3)     # десятичный логарифм при заданном срезе"
      ],
      "metadata": {
        "colab": {
          "base_uri": "https://localhost:8080/"
        },
        "id": "VPqMXu7Kcukf",
        "outputId": "e83cdb7e-96c1-4c67-bcac-f33d1a7adc47"
      },
      "execution_count": null,
      "outputs": [
        {
          "output_type": "execute_result",
          "data": {
            "text/plain": [
              "array([[ 0.        ,  0.        ,  0.        ,  0.        ],\n",
              "       [-0.08241751, -1.23756212,  0.25626327,  0.        ],\n",
              "       [-0.50978744, -0.45352167, -0.19268108,  0.        ],\n",
              "       [ 0.        ,  0.        ,  0.        ,  0.        ],\n",
              "       [ 0.        ,  0.        ,  0.        ,  0.        ]])"
            ]
          },
          "metadata": {},
          "execution_count": 143
        }
      ]
    },
    {
      "cell_type": "code",
      "source": [
        "Unar_Operations.log10(data)     # десятичный логарифм для целого массива"
      ],
      "metadata": {
        "colab": {
          "base_uri": "https://localhost:8080/"
        },
        "id": "NC1PNgCDcuA3",
        "outputId": "de553eaa-1742-42f8-cbd0-cc67f8ce8f82"
      },
      "execution_count": null,
      "outputs": [
        {
          "output_type": "execute_result",
          "data": {
            "text/plain": [
              "array([[-0.72837117,  0.20461631, -0.72412111, -0.8781992 ],\n",
              "       [-0.08241751, -1.23756212,  0.25626327, -1.20173311],\n",
              "       [-0.50978744, -0.45352167, -0.19268108, -0.23775328],\n",
              "       [-0.20948426, -1.19885988, -0.01683045, -0.59220839],\n",
              "       [-0.35120976, -0.66823322, -0.48571895, -0.80319835]])"
            ]
          },
          "metadata": {},
          "execution_count": 144
        }
      ]
    },
    {
      "cell_type": "code",
      "source": [
        "Unar_Operations.sign(data, 1, 3, 0, 3)     # знак элемента при заданном срезе"
      ],
      "metadata": {
        "colab": {
          "base_uri": "https://localhost:8080/"
        },
        "id": "RYY-ttqVfQZj",
        "outputId": "fd300533-a07e-4629-c3ad-a1a8309b40f9"
      },
      "execution_count": null,
      "outputs": [
        {
          "output_type": "execute_result",
          "data": {
            "text/plain": [
              "array([[ 0.,  0.,  0.,  0.],\n",
              "       [-1., -1.,  1.,  0.],\n",
              "       [ 1., -1., -1.,  0.],\n",
              "       [ 0.,  0.,  0.,  0.],\n",
              "       [ 0.,  0.,  0.,  0.]])"
            ]
          },
          "metadata": {},
          "execution_count": 145
        }
      ]
    },
    {
      "cell_type": "code",
      "source": [
        "Unar_Operations.sign(data)     # знак элемента для целого массива"
      ],
      "metadata": {
        "colab": {
          "base_uri": "https://localhost:8080/"
        },
        "id": "HUv1Yg3ifQRV",
        "outputId": "70dd6d3f-5b99-4776-9b80-2274d8708f6b"
      },
      "execution_count": null,
      "outputs": [
        {
          "output_type": "execute_result",
          "data": {
            "text/plain": [
              "array([[ 1.,  1.,  1., -1.],\n",
              "       [-1., -1.,  1., -1.],\n",
              "       [ 1., -1., -1., -1.],\n",
              "       [-1.,  1., -1., -1.],\n",
              "       [-1., -1., -1.,  1.]])"
            ]
          },
          "metadata": {},
          "execution_count": 146
        }
      ]
    },
    {
      "cell_type": "code",
      "source": [
        "Unar_Operations.cos(data, 1, 3, 0, 3)     # косинус при заданном срезе"
      ],
      "metadata": {
        "colab": {
          "base_uri": "https://localhost:8080/"
        },
        "id": "0_tArZNWfTDw",
        "outputId": "937db839-7909-438f-94f5-4a61871b1972"
      },
      "execution_count": null,
      "outputs": [
        {
          "output_type": "execute_result",
          "data": {
            "text/plain": [
              "array([[ 0.        ,  0.        ,  0.        ,  0.        ],\n",
              "       [ 0.67697862,  0.99832612, -0.23120371,  0.        ],\n",
              "       [ 0.95258315,  0.93870301,  0.80109097,  0.        ],\n",
              "       [ 0.        ,  0.        ,  0.        ,  0.        ],\n",
              "       [ 0.        ,  0.        ,  0.        ,  0.        ]])"
            ]
          },
          "metadata": {},
          "execution_count": 147
        }
      ]
    },
    {
      "cell_type": "code",
      "source": [
        "Unar_Operations.cos(data)     # косинус для целого массива"
      ],
      "metadata": {
        "colab": {
          "base_uri": "https://localhost:8080/"
        },
        "id": "S-zpZGQdfSz8",
        "outputId": "455f4004-af8e-4089-e429-4a93f0a726ab"
      },
      "execution_count": null,
      "outputs": [
        {
          "output_type": "execute_result",
          "data": {
            "text/plain": [
              "array([[ 0.98258342, -0.03102829,  0.9822402 ,  0.99125142],\n",
              "       [ 0.67697862,  0.99832612, -0.23120371,  0.99802594],\n",
              "       [ 0.95258315,  0.93870301,  0.80109097,  0.83732499],\n",
              "       [ 0.81542827,  0.99799965,  0.57189049,  0.96747742],\n",
              "       [ 0.90242072,  0.97704723,  0.94707468,  0.98764971]])"
            ]
          },
          "metadata": {},
          "execution_count": 148
        }
      ]
    },
    {
      "cell_type": "code",
      "source": [
        "Unar_Operations.array_3d(data, 4)   # преобразование двухмерного массива в трехмерный массив"
      ],
      "metadata": {
        "colab": {
          "base_uri": "https://localhost:8080/"
        },
        "id": "ora-axi0qlDU",
        "outputId": "2579b011-8a79-4b3a-98ff-3bfe1c0ad6b7"
      },
      "execution_count": null,
      "outputs": [
        {
          "output_type": "execute_result",
          "data": {
            "text/plain": [
              "array([[[ 0.18690841,  1.6018296 ,  0.18874649, -0.13237342],\n",
              "        [-0.8271466 , -0.05786792,  1.80411106, -0.06284444],\n",
              "        [ 0.30918083, -0.35194786, -0.64168061, -0.57842455],\n",
              "        [-0.61732766,  0.06326159, -0.96198777, -0.25573585],\n",
              "        [-0.44544105, -0.21466774, -0.32679925,  0.15732642]],\n",
              "\n",
              "       [[ 0.18690841,  1.6018296 ,  0.18874649, -0.13237342],\n",
              "        [-0.8271466 , -0.05786792,  1.80411106, -0.06284444],\n",
              "        [ 0.30918083, -0.35194786, -0.64168061, -0.57842455],\n",
              "        [-0.61732766,  0.06326159, -0.96198777, -0.25573585],\n",
              "        [-0.44544105, -0.21466774, -0.32679925,  0.15732642]],\n",
              "\n",
              "       [[ 0.18690841,  1.6018296 ,  0.18874649, -0.13237342],\n",
              "        [-0.8271466 , -0.05786792,  1.80411106, -0.06284444],\n",
              "        [ 0.30918083, -0.35194786, -0.64168061, -0.57842455],\n",
              "        [-0.61732766,  0.06326159, -0.96198777, -0.25573585],\n",
              "        [-0.44544105, -0.21466774, -0.32679925,  0.15732642]],\n",
              "\n",
              "       [[ 0.18690841,  1.6018296 ,  0.18874649, -0.13237342],\n",
              "        [-0.8271466 , -0.05786792,  1.80411106, -0.06284444],\n",
              "        [ 0.30918083, -0.35194786, -0.64168061, -0.57842455],\n",
              "        [-0.61732766,  0.06326159, -0.96198777, -0.25573585],\n",
              "        [-0.44544105, -0.21466774, -0.32679925,  0.15732642]]])"
            ]
          },
          "metadata": {},
          "execution_count": 149
        }
      ]
    },
    {
      "cell_type": "markdown",
      "source": [
        "## Вывод результатов для нового массива нормального (Гауссового) распределения:"
      ],
      "metadata": {
        "id": "vS6hMI63gVCp"
      }
    },
    {
      "cell_type": "code",
      "source": [
        "data = np.random.normal(3, 2.5, size=(6, 4))\n",
        "data"
      ],
      "metadata": {
        "colab": {
          "base_uri": "https://localhost:8080/"
        },
        "id": "xyZ77GU9hF-W",
        "outputId": "9023f4ff-88f3-40fa-87f3-d801a5bec893"
      },
      "execution_count": null,
      "outputs": [
        {
          "output_type": "execute_result",
          "data": {
            "text/plain": [
              "array([[ 4.40207443,  3.85060491,  3.94866161,  4.37561128],\n",
              "       [ 0.63060583,  2.21489261,  5.65769944,  1.32942839],\n",
              "       [ 0.51701621,  3.70308522,  5.10928911, -5.02923171],\n",
              "       [ 4.43212552,  4.69361798,  3.43473673,  4.77991877],\n",
              "       [ 2.78868158,  6.53850538,  4.27736972,  4.98914607],\n",
              "       [ 4.64545718,  5.85633021,  5.19388097,  1.98574534]])"
            ]
          },
          "metadata": {},
          "execution_count": 150
        }
      ]
    },
    {
      "cell_type": "code",
      "source": [
        "Unar_Operations.floor(data, 2, 5, 1, 3)     # наибольшее целое число, не большее его при заданном срезе"
      ],
      "metadata": {
        "colab": {
          "base_uri": "https://localhost:8080/"
        },
        "id": "3-lHmLAilURG",
        "outputId": "d64823ca-20d4-49e3-df2f-30b736c31d31"
      },
      "execution_count": null,
      "outputs": [
        {
          "output_type": "execute_result",
          "data": {
            "text/plain": [
              "array([[0., 0., 0., 0.],\n",
              "       [0., 0., 0., 0.],\n",
              "       [0., 3., 5., 0.],\n",
              "       [0., 4., 3., 0.],\n",
              "       [0., 6., 4., 0.],\n",
              "       [0., 0., 0., 0.]])"
            ]
          },
          "metadata": {},
          "execution_count": 151
        }
      ]
    },
    {
      "cell_type": "code",
      "source": [
        "Unar_Operations.floor(data)     # наибольшее целое число, не большее его для целого массива"
      ],
      "metadata": {
        "colab": {
          "base_uri": "https://localhost:8080/"
        },
        "id": "8G4F7LoOlUJD",
        "outputId": "7cc69795-f0ff-495c-ab22-0cd3c9264282"
      },
      "execution_count": null,
      "outputs": [
        {
          "output_type": "execute_result",
          "data": {
            "text/plain": [
              "array([[ 4.,  3.,  3.,  4.],\n",
              "       [ 0.,  2.,  5.,  1.],\n",
              "       [ 0.,  3.,  5., -6.],\n",
              "       [ 4.,  4.,  3.,  4.],\n",
              "       [ 2.,  6.,  4.,  4.],\n",
              "       [ 4.,  5.,  5.,  1.]])"
            ]
          },
          "metadata": {},
          "execution_count": 152
        }
      ]
    },
    {
      "cell_type": "code",
      "source": [
        "Unar_Operations.sqrt(data, 2, 5, 1, 3)     # квадратный корень при заданном срезе"
      ],
      "metadata": {
        "colab": {
          "base_uri": "https://localhost:8080/"
        },
        "id": "vqnpCbohlSlr",
        "outputId": "4a23798a-a521-4551-9f11-d315bb73ad7f"
      },
      "execution_count": null,
      "outputs": [
        {
          "output_type": "execute_result",
          "data": {
            "text/plain": [
              "array([[0.        , 0.        , 0.        , 0.        ],\n",
              "       [0.        , 0.        , 0.        , 0.        ],\n",
              "       [0.        , 1.9243402 , 2.26037367, 0.        ],\n",
              "       [0.        , 2.16647594, 1.85330427, 0.        ],\n",
              "       [0.        , 2.55705013, 2.06818029, 0.        ],\n",
              "       [0.        , 0.        , 0.        , 0.        ]])"
            ]
          },
          "metadata": {},
          "execution_count": 153
        }
      ]
    },
    {
      "cell_type": "code",
      "source": [
        "Unar_Operations.sqrt(data)     # квадратный корень для целого массива"
      ],
      "metadata": {
        "colab": {
          "base_uri": "https://localhost:8080/"
        },
        "id": "nzMDZjjMlSdv",
        "outputId": "6cc5c613-8362-400b-b187-382a2936d6ac"
      },
      "execution_count": null,
      "outputs": [
        {
          "output_type": "execute_result",
          "data": {
            "text/plain": [
              "array([[2.09811211, 1.96229583, 1.98712395, 2.09179618],\n",
              "       [0.79410694, 1.48825153, 2.3785919 , 1.15300841],\n",
              "       [0.71903839, 1.9243402 , 2.26037367, 2.24259486],\n",
              "       [2.10526139, 2.16647594, 1.85330427, 2.18630253],\n",
              "       [1.6699346 , 2.55705013, 2.06818029, 2.23363965],\n",
              "       [2.15533227, 2.41998558, 2.27900877, 1.40916477]])"
            ]
          },
          "metadata": {},
          "execution_count": 154
        }
      ]
    },
    {
      "cell_type": "code",
      "source": [
        "Unar_Operations.tanh(data, 2, 5, 1, 3)     # гиперболический тангенс при заданном срезе"
      ],
      "metadata": {
        "colab": {
          "base_uri": "https://localhost:8080/"
        },
        "id": "Oa8tyb67lOM4",
        "outputId": "a2dbd8fb-5b18-4a30-9bc2-fd87a291abe2"
      },
      "execution_count": null,
      "outputs": [
        {
          "output_type": "execute_result",
          "data": {
            "text/plain": [
              "array([[0.        , 0.        , 0.        , 0.        ],\n",
              "       [0.        , 0.        , 0.        , 0.        ],\n",
              "       [0.        , 0.99878575, 0.99992703, 0.        ],\n",
              "       [0.        , 0.99983244, 0.99792411, 0.        ],\n",
              "       [0.        , 0.99999581, 0.99961481, 0.        ],\n",
              "       [0.        , 0.        , 0.        , 0.        ]])"
            ]
          },
          "metadata": {},
          "execution_count": 155
        }
      ]
    },
    {
      "cell_type": "code",
      "source": [
        "Unar_Operations.tanh(data)     # гиперболический тангенс для целого массива"
      ],
      "metadata": {
        "colab": {
          "base_uri": "https://localhost:8080/"
        },
        "id": "zzySJRk5lOER",
        "outputId": "583f72b5-89cd-42fa-b028-0b2023c011b6"
      },
      "execution_count": null,
      "outputs": [
        {
          "output_type": "execute_result",
          "data": {
            "text/plain": [
              "array([[ 0.99969983,  0.99909585,  0.9992568 ,  0.99968351],\n",
              "       [ 0.55846923,  0.97644659,  0.99997563,  0.86910956],\n",
              "       [ 0.47539384,  0.99878575,  0.99992703, -0.99991436],\n",
              "       [ 0.99971733,  0.99983244,  0.99792411,  0.999859  ],\n",
              "       [ 0.99246345,  0.99999581,  0.99961481,  0.99990721],\n",
              "       [ 0.9998155 ,  0.99998362,  0.99993839,  0.96300651]])"
            ]
          },
          "metadata": {},
          "execution_count": 156
        }
      ]
    },
    {
      "cell_type": "markdown",
      "source": [
        "## Вывод результатов для нового массива целых чисел:"
      ],
      "metadata": {
        "id": "OIJgqkJmnqMT"
      }
    },
    {
      "cell_type": "code",
      "source": [
        "data = np.random.randint(10, size=(8, 9))\n",
        "data"
      ],
      "metadata": {
        "colab": {
          "base_uri": "https://localhost:8080/"
        },
        "id": "1zyWq6afhYaZ",
        "outputId": "23103926-7e2e-473e-93e1-4daff4652a6d"
      },
      "execution_count": null,
      "outputs": [
        {
          "output_type": "execute_result",
          "data": {
            "text/plain": [
              "array([[4, 4, 1, 0, 6, 9, 8, 3, 4],\n",
              "       [9, 7, 7, 4, 0, 8, 6, 3, 6],\n",
              "       [7, 5, 3, 0, 6, 9, 2, 6, 4],\n",
              "       [5, 9, 7, 3, 2, 1, 6, 4, 8],\n",
              "       [7, 7, 3, 5, 9, 3, 9, 8, 2],\n",
              "       [9, 4, 2, 4, 4, 0, 5, 9, 4],\n",
              "       [2, 3, 0, 6, 1, 5, 7, 1, 8],\n",
              "       [9, 1, 0, 7, 2, 7, 0, 4, 5]])"
            ]
          },
          "metadata": {},
          "execution_count": 157
        }
      ]
    },
    {
      "cell_type": "code",
      "source": [
        "Unar_Operations.square(data, 0, 8, 3, 6)     # возведение в квадрат при заданном срезе"
      ],
      "metadata": {
        "colab": {
          "base_uri": "https://localhost:8080/"
        },
        "id": "iZ5HapgGl7cz",
        "outputId": "1fc549ce-da51-4bad-8283-46d577d3ab50"
      },
      "execution_count": null,
      "outputs": [
        {
          "output_type": "execute_result",
          "data": {
            "text/plain": [
              "array([[ 0.,  0.,  0.,  0., 36., 81.,  0.,  0.,  0.],\n",
              "       [ 0.,  0.,  0., 16.,  0., 64.,  0.,  0.,  0.],\n",
              "       [ 0.,  0.,  0.,  0., 36., 81.,  0.,  0.,  0.],\n",
              "       [ 0.,  0.,  0.,  9.,  4.,  1.,  0.,  0.,  0.],\n",
              "       [ 0.,  0.,  0., 25., 81.,  9.,  0.,  0.,  0.],\n",
              "       [ 0.,  0.,  0., 16., 16.,  0.,  0.,  0.,  0.],\n",
              "       [ 0.,  0.,  0., 36.,  1., 25.,  0.,  0.,  0.],\n",
              "       [ 0.,  0.,  0., 49.,  4., 49.,  0.,  0.,  0.]])"
            ]
          },
          "metadata": {},
          "execution_count": 158
        }
      ]
    },
    {
      "cell_type": "code",
      "source": [
        "Unar_Operations.square(data)     # возведение в квадрат для целого массива"
      ],
      "metadata": {
        "colab": {
          "base_uri": "https://localhost:8080/"
        },
        "id": "fyqWat5Bl7VH",
        "outputId": "d575864b-ba37-437f-da3d-fb1807ab6ed1"
      },
      "execution_count": null,
      "outputs": [
        {
          "output_type": "execute_result",
          "data": {
            "text/plain": [
              "array([[16, 16,  1,  0, 36, 81, 64,  9, 16],\n",
              "       [81, 49, 49, 16,  0, 64, 36,  9, 36],\n",
              "       [49, 25,  9,  0, 36, 81,  4, 36, 16],\n",
              "       [25, 81, 49,  9,  4,  1, 36, 16, 64],\n",
              "       [49, 49,  9, 25, 81,  9, 81, 64,  4],\n",
              "       [81, 16,  4, 16, 16,  0, 25, 81, 16],\n",
              "       [ 4,  9,  0, 36,  1, 25, 49,  1, 64],\n",
              "       [81,  1,  0, 49,  4, 49,  0, 16, 25]])"
            ]
          },
          "metadata": {},
          "execution_count": 159
        }
      ]
    },
    {
      "cell_type": "code",
      "source": [
        "Unar_Operations.isinf(data, 0, 8, 3, 6)     # булев массив, показывающий, какие элементы являются бесконечными при заданном срезе"
      ],
      "metadata": {
        "colab": {
          "base_uri": "https://localhost:8080/"
        },
        "id": "ocb_QpRYl7Nw",
        "outputId": "222b279c-0310-4c6a-9be8-2c9dd343b1c9"
      },
      "execution_count": null,
      "outputs": [
        {
          "output_type": "execute_result",
          "data": {
            "text/plain": [
              "array([[0., 0., 0., 0., 0., 0., 0., 0., 0.],\n",
              "       [0., 0., 0., 0., 0., 0., 0., 0., 0.],\n",
              "       [0., 0., 0., 0., 0., 0., 0., 0., 0.],\n",
              "       [0., 0., 0., 0., 0., 0., 0., 0., 0.],\n",
              "       [0., 0., 0., 0., 0., 0., 0., 0., 0.],\n",
              "       [0., 0., 0., 0., 0., 0., 0., 0., 0.],\n",
              "       [0., 0., 0., 0., 0., 0., 0., 0., 0.],\n",
              "       [0., 0., 0., 0., 0., 0., 0., 0., 0.]])"
            ]
          },
          "metadata": {},
          "execution_count": 160
        }
      ]
    },
    {
      "cell_type": "code",
      "source": [
        "Unar_Operations.isinf(data)     # булев массив, показывающий, какие элементы являются бесконечными для целого массива"
      ],
      "metadata": {
        "colab": {
          "base_uri": "https://localhost:8080/"
        },
        "id": "pVKovqe8l7GR",
        "outputId": "3e4e5d5a-4e36-41df-d761-e7c719d703fd"
      },
      "execution_count": null,
      "outputs": [
        {
          "output_type": "execute_result",
          "data": {
            "text/plain": [
              "array([[False, False, False, False, False, False, False, False, False],\n",
              "       [False, False, False, False, False, False, False, False, False],\n",
              "       [False, False, False, False, False, False, False, False, False],\n",
              "       [False, False, False, False, False, False, False, False, False],\n",
              "       [False, False, False, False, False, False, False, False, False],\n",
              "       [False, False, False, False, False, False, False, False, False],\n",
              "       [False, False, False, False, False, False, False, False, False],\n",
              "       [False, False, False, False, False, False, False, False, False]])"
            ]
          },
          "metadata": {},
          "execution_count": 161
        }
      ]
    },
    {
      "cell_type": "code",
      "source": [
        "Unar_Operations.isfinite(data, 0, 8, 3, 6)     # булев массив, показывающий, какие элементы являются конечными (не inf и не NaN) при заданном срезе"
      ],
      "metadata": {
        "colab": {
          "base_uri": "https://localhost:8080/"
        },
        "id": "KacZo5esl69p",
        "outputId": "9af5fad7-7cdd-4c4b-c652-ff5043fd7d31"
      },
      "execution_count": null,
      "outputs": [
        {
          "output_type": "execute_result",
          "data": {
            "text/plain": [
              "array([[0., 0., 0., 1., 1., 1., 0., 0., 0.],\n",
              "       [0., 0., 0., 1., 1., 1., 0., 0., 0.],\n",
              "       [0., 0., 0., 1., 1., 1., 0., 0., 0.],\n",
              "       [0., 0., 0., 1., 1., 1., 0., 0., 0.],\n",
              "       [0., 0., 0., 1., 1., 1., 0., 0., 0.],\n",
              "       [0., 0., 0., 1., 1., 1., 0., 0., 0.],\n",
              "       [0., 0., 0., 1., 1., 1., 0., 0., 0.],\n",
              "       [0., 0., 0., 1., 1., 1., 0., 0., 0.]])"
            ]
          },
          "metadata": {},
          "execution_count": 162
        }
      ]
    },
    {
      "cell_type": "code",
      "source": [
        "Unar_Operations.isfinite(data)     # булев массив, показывающий, какие элементы являются конечными (не inf и не NaN) для целого массива"
      ],
      "metadata": {
        "colab": {
          "base_uri": "https://localhost:8080/"
        },
        "id": "qSAH1ZsDBD2B",
        "outputId": "ac68c119-9941-4e34-fa32-6977b4d32322"
      },
      "execution_count": null,
      "outputs": [
        {
          "output_type": "execute_result",
          "data": {
            "text/plain": [
              "array([[ True,  True,  True,  True,  True,  True,  True,  True,  True],\n",
              "       [ True,  True,  True,  True,  True,  True,  True,  True,  True],\n",
              "       [ True,  True,  True,  True,  True,  True,  True,  True,  True],\n",
              "       [ True,  True,  True,  True,  True,  True,  True,  True,  True],\n",
              "       [ True,  True,  True,  True,  True,  True,  True,  True,  True],\n",
              "       [ True,  True,  True,  True,  True,  True,  True,  True,  True],\n",
              "       [ True,  True,  True,  True,  True,  True,  True,  True,  True],\n",
              "       [ True,  True,  True,  True,  True,  True,  True,  True,  True]])"
            ]
          },
          "metadata": {},
          "execution_count": 163
        }
      ]
    },
    {
      "cell_type": "code",
      "source": [
        "Unar_Operations.array_3d(data, 3)   # преобразование двухмерного массива в трехмерный массив"
      ],
      "metadata": {
        "colab": {
          "base_uri": "https://localhost:8080/"
        },
        "id": "Tb6mtvtsCxpf",
        "outputId": "82d87103-bb2f-4121-d8b2-0c2b2ac44c44"
      },
      "execution_count": null,
      "outputs": [
        {
          "output_type": "execute_result",
          "data": {
            "text/plain": [
              "array([[[4, 4, 1, 0, 6, 9, 8, 3, 4],\n",
              "        [9, 7, 7, 4, 0, 8, 6, 3, 6],\n",
              "        [7, 5, 3, 0, 6, 9, 2, 6, 4],\n",
              "        [5, 9, 7, 3, 2, 1, 6, 4, 8],\n",
              "        [7, 7, 3, 5, 9, 3, 9, 8, 2],\n",
              "        [9, 4, 2, 4, 4, 0, 5, 9, 4],\n",
              "        [2, 3, 0, 6, 1, 5, 7, 1, 8],\n",
              "        [9, 1, 0, 7, 2, 7, 0, 4, 5]],\n",
              "\n",
              "       [[4, 4, 1, 0, 6, 9, 8, 3, 4],\n",
              "        [9, 7, 7, 4, 0, 8, 6, 3, 6],\n",
              "        [7, 5, 3, 0, 6, 9, 2, 6, 4],\n",
              "        [5, 9, 7, 3, 2, 1, 6, 4, 8],\n",
              "        [7, 7, 3, 5, 9, 3, 9, 8, 2],\n",
              "        [9, 4, 2, 4, 4, 0, 5, 9, 4],\n",
              "        [2, 3, 0, 6, 1, 5, 7, 1, 8],\n",
              "        [9, 1, 0, 7, 2, 7, 0, 4, 5]],\n",
              "\n",
              "       [[4, 4, 1, 0, 6, 9, 8, 3, 4],\n",
              "        [9, 7, 7, 4, 0, 8, 6, 3, 6],\n",
              "        [7, 5, 3, 0, 6, 9, 2, 6, 4],\n",
              "        [5, 9, 7, 3, 2, 1, 6, 4, 8],\n",
              "        [7, 7, 3, 5, 9, 3, 9, 8, 2],\n",
              "        [9, 4, 2, 4, 4, 0, 5, 9, 4],\n",
              "        [2, 3, 0, 6, 1, 5, 7, 1, 8],\n",
              "        [9, 1, 0, 7, 2, 7, 0, 4, 5]]])"
            ]
          },
          "metadata": {},
          "execution_count": 164
        }
      ]
    }
  ]
}