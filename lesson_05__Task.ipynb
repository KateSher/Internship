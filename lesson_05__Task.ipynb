{
  "nbformat": 4,
  "nbformat_minor": 0,
  "metadata": {
    "colab": {
      "name": "lesson_05_ Task.ipynb",
      "provenance": [],
      "collapsed_sections": []
    },
    "kernelspec": {
      "name": "python3",
      "display_name": "Python 3"
    },
    "language_info": {
      "name": "python"
    }
  },
  "cells": [
    {
      "cell_type": "code",
      "execution_count": 38,
      "metadata": {
        "colab": {
          "base_uri": "https://localhost:8080/"
        },
        "id": "OIHmUkjC-dBj",
        "outputId": "8ee18222-bd2e-4f71-d298-98b16c12a390"
      },
      "outputs": [
        {
          "output_type": "stream",
          "name": "stdout",
          "text": [
            "Drive already mounted at /content/drive; to attempt to forcibly remount, call drive.mount(\"/content/drive\", force_remount=True).\n"
          ]
        }
      ],
      "source": [
        "import sqlite3\n",
        "import csv\n",
        "from google.colab import drive\n",
        "drive.mount('/content/drive')\n",
        "\n",
        "# создание базы данных\n",
        "conn = sqlite3.connect('drive/MyDrive/Colab Notebooks/Internship/lesson_05/my_database.db')\n",
        "cur = conn.cursor()"
      ]
    },
    {
      "cell_type": "code",
      "source": [
        "# создание таблицы\n",
        "cur.execute('CREATE TABLE IF NOT EXISTS {}(Country TEXT, City TEXT, CityId INTEGER)'.format('Cities'))\n",
        "conn.commit()"
      ],
      "metadata": {
        "id": "XeJaJvrm-ml6"
      },
      "execution_count": 39,
      "outputs": []
    },
    {
      "cell_type": "code",
      "source": [
        "my_list = []\n",
        "# зазгузка txt файла в csv reader\n",
        "with open ('drive/MyDrive/Colab Notebooks/Internship/lesson_05/full_city_list.txt', 'r') as my_file:\n",
        "    my_csv_reader = csv.reader(my_file, delimiter=';')\n",
        "# итерация csv reader\n",
        "    for row in my_csv_reader:\n",
        "        row = tuple(row)\n",
        "        my_list.append(row)\n",
        "my_list.pop(0)\n",
        "my_list_clear = my_list[:-2]"
      ],
      "metadata": {
        "id": "lVw6ZbE2-mjN"
      },
      "execution_count": 40,
      "outputs": []
    },
    {
      "cell_type": "code",
      "source": [
        "# внесение значений в базу данных\n",
        "sql = \"\"\"\\\n",
        "INSERT INTO Cities\n",
        "VALUES (?, ?, ?)\n",
        "\"\"\"\n",
        "try:\n",
        "    cur.executemany(sql, my_list_clear)\n",
        "except sqlite3.Error as error:\n",
        "    print('Ошибка при работе с SQLite', error)\n",
        "else:\n",
        "    print('Запрос успешно выполнен')\n",
        "    conn.commit()"
      ],
      "metadata": {
        "colab": {
          "base_uri": "https://localhost:8080/"
        },
        "id": "Fh5_MxHy-mde",
        "outputId": "e1a78282-f229-461e-c8ea-418adcccb844"
      },
      "execution_count": 41,
      "outputs": [
        {
          "output_type": "stream",
          "name": "stdout",
          "text": [
            "Запрос успешно выполнен\n"
          ]
        }
      ]
    },
    {
      "cell_type": "code",
      "source": [
        "# закрытие csv файла, закрытие курсора и соединения\n",
        "my_file.close()\n",
        "cur.close()\n",
        "conn.close()"
      ],
      "metadata": {
        "id": "EqwOLAQr-maZ"
      },
      "execution_count": 42,
      "outputs": []
    },
    {
      "cell_type": "code",
      "source": [
        "# функция, позволяющая вносить изменения в базу данных\n",
        "def update_sqlite_table():\n",
        "    try:\n",
        "        conn = sqlite3.connect('drive/MyDrive/Colab Notebooks/Internship/lesson_05/my_database.db')\n",
        "        cur = conn.cursor()\n",
        "        print('Подключен к SQLite')\n",
        "\n",
        "        sql_update_query = \"\"\"Update Cities set City = 'Mazar-i-Sharif' where CityId = 1183\"\"\"\n",
        "        cur.execute(sql_update_query)\n",
        "        conn.commit()\n",
        "        print('Запись успешно обновлена')\n",
        "        cur.close()\n",
        "\n",
        "    except sqlite3.Error as error:\n",
        "        print('Ошибка при работе с SQLite', error)\n",
        "    finally:\n",
        "        if conn:\n",
        "            conn.close()\n",
        "            print('Соединение с SQLite закрыто')\n",
        "\n",
        "update_sqlite_table()"
      ],
      "metadata": {
        "colab": {
          "base_uri": "https://localhost:8080/"
        },
        "id": "viHECu28-mXQ",
        "outputId": "20abd574-0368-4d52-a20d-74bcec4fea76"
      },
      "execution_count": 43,
      "outputs": [
        {
          "output_type": "stream",
          "name": "stdout",
          "text": [
            "Подключен к SQLite\n",
            "Запись успешно обновлена\n",
            "Соединение с SQLite закрыто\n"
          ]
        }
      ]
    }
  ]
}