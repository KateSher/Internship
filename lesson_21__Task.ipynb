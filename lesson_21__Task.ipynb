{
  "nbformat": 4,
  "nbformat_minor": 0,
  "metadata": {
    "colab": {
      "name": "lesson_21_ Task.ipynb",
      "provenance": [],
      "collapsed_sections": []
    },
    "kernelspec": {
      "name": "python3",
      "display_name": "Python 3"
    },
    "language_info": {
      "name": "python"
    }
  },
  "cells": [
    {
      "cell_type": "code",
      "source": [
        "import re\n",
        "import spacy\n",
        "import gensim\n",
        "import pandas as pd"
      ],
      "metadata": {
        "id": "iNjXLsyIgCsN"
      },
      "execution_count": 1,
      "outputs": []
    },
    {
      "cell_type": "code",
      "execution_count": 2,
      "metadata": {
        "colab": {
          "base_uri": "https://localhost:8080/"
        },
        "id": "jG4na2Yzdcb0",
        "outputId": "77a93c27-3066-4c4e-ef91-72e53943112b"
      },
      "outputs": [
        {
          "output_type": "stream",
          "name": "stdout",
          "text": [
            "Mounted at /content/drive\n"
          ]
        }
      ],
      "source": [
        "# Google drive mount\n",
        "from google.colab import drive\n",
        "drive.mount('/content/drive')"
      ]
    },
    {
      "cell_type": "markdown",
      "source": [
        "### Загрузка данных"
      ],
      "metadata": {
        "id": "HG0Z3xGCglxE"
      }
    },
    {
      "cell_type": "code",
      "source": [
        "text_file = 'drive/MyDrive/Colab Notebooks/Internship/lesson_21/dataset.txt'\n",
        "# read all lines at once\n",
        "with open(text_file, 'r', encoding= 'unicode_escape') as f:\n",
        "    lines = f.readlines()\n",
        "lines[2100:2103]"
      ],
      "metadata": {
        "colab": {
          "base_uri": "https://localhost:8080/"
        },
        "id": "e-8L_osfgDHx",
        "outputId": "f32d9216-a148-401b-b364-b0190b1abc59"
      },
      "execution_count": 3,
      "outputs": [
        {
          "output_type": "execute_result",
          "data": {
            "text/plain": [
              "[\"'But it's never cared,' said Skimmer. 'Up until now. And now it wants to rip the top off the country and take what's underneath, mmph, mmhm.'\\n\",\n",
              " 'Ah, thought Vimes, our killer clerk does have more than one emotion.\\n',\n",
              " \"'Ankh-Morpork has always tried to get on well with other nations,' said Sybil. 'Well, these days, at least.'\\n\"]"
            ]
          },
          "metadata": {},
          "execution_count": 3
        }
      ]
    },
    {
      "cell_type": "markdown",
      "source": [
        "### Препроцесинг загруженного текста"
      ],
      "metadata": {
        "id": "WMGEymsjgsZw"
      }
    },
    {
      "cell_type": "code",
      "source": [
        "# Function for preprocessing loaded text\n",
        "def clean_text(text):\n",
        "    # remove carriage return to next line (\\n)\n",
        "    text = re.sub(r'\\n', '', text)\n",
        "    # remove the transition to the beginning of the current line (\\r)\n",
        "    text = re.sub(r'\\r', '', text)\n",
        "    # remove tabs (\\t)\n",
        "    text = re.sub(r'\\t', '', text)\n",
        "    # remove multiple spaces\n",
        "    text = re.sub(r'\\s+', ' ', text, flags=re.I)\n",
        "    # returning cleared data\n",
        "    return text  "
      ],
      "metadata": {
        "id": "T3kc4XTcUZum"
      },
      "execution_count": 4,
      "outputs": []
    },
    {
      "cell_type": "code",
      "source": [
        "# create a list to hold the cleared text\n",
        "cleaned_text = []\n",
        "# for each word from all lines\n",
        "for text in lines:\n",
        "    # cleaning up the text  \n",
        "    text = clean_text(text)\n",
        "    # add the cleared text to the list cleaned_text\n",
        "    cleaned_text.append(text)\n",
        "cleaned_text[2100:2103]"
      ],
      "metadata": {
        "colab": {
          "base_uri": "https://localhost:8080/"
        },
        "id": "8pgKhC5JZPqY",
        "outputId": "32bbbf4e-8551-4a09-bb62-80bf222f7460"
      },
      "execution_count": 5,
      "outputs": [
        {
          "output_type": "execute_result",
          "data": {
            "text/plain": [
              "[\"'But it's never cared,' said Skimmer. 'Up until now. And now it wants to rip the top off the country and take what's underneath, mmph, mmhm.'\",\n",
              " 'Ah, thought Vimes, our killer clerk does have more than one emotion.',\n",
              " \"'Ankh-Morpork has always tried to get on well with other nations,' said Sybil. 'Well, these days, at least.'\"]"
            ]
          },
          "metadata": {},
          "execution_count": 5
        }
      ]
    },
    {
      "cell_type": "markdown",
      "source": [
        "### Токенизация, лемматизация, укрупненный и уточненный POS-тэггинг, нахождение меток синтаксической зависимости с помощью библиотеки spaCy. Полученные результаты представлены в виде Pandas-датафрейма"
      ],
      "metadata": {
        "id": "gKnEtx6kiEVe"
      }
    },
    {
      "cell_type": "code",
      "source": [
        "nlp = spacy.load('en')\n",
        "doc = nlp(' '.join(cleaned_text))"
      ],
      "metadata": {
        "id": "xTMnNmeYiG1-"
      },
      "execution_count": 6,
      "outputs": []
    },
    {
      "cell_type": "code",
      "source": [
        "result_list = []\n",
        "for token in doc:\n",
        "    result_list.append([token.text, token.lemma_, token.pos_, token.tag_, token.dep_])\n",
        "df = pd.DataFrame(result_list, columns=['Word', 'Lemma', 'POS', 'TAG', 'DEP'])\n",
        "df"
      ],
      "metadata": {
        "colab": {
          "base_uri": "https://localhost:8080/",
          "height": 424
        },
        "id": "rPfcUkILuVGT",
        "outputId": "c59b37f4-c125-49da-b76a-76b953974a90"
      },
      "execution_count": 7,
      "outputs": [
        {
          "output_type": "execute_result",
          "data": {
            "text/plain": [
              "             Word      Lemma    POS  TAG       DEP\n",
              "0             The        the    DET   DT       det\n",
              "1           Fifth      Fifth  PROPN  NNP      amod\n",
              "2        Elephant   Elephant  PROPN  NNP  compound\n",
              "3               A          A  PROPN  NNP  compound\n",
              "4       Discworld  Discworld  PROPN  NNP  compound\n",
              "...           ...        ...    ...  ...       ...\n",
              "139459  whispered    whisper   VERB  VBD      ROOT\n",
              "139460          .          .  PUNCT    .     punct\n",
              "139461                        SPACE  _SP          \n",
              "139462        THE        the    DET   DT       det\n",
              "139463        END        END  PROPN  NNP      ROOT\n",
              "\n",
              "[139464 rows x 5 columns]"
            ],
            "text/html": [
              "\n",
              "  <div id=\"df-f958368c-b936-47fc-98ae-8d6b50d1f9c6\">\n",
              "    <div class=\"colab-df-container\">\n",
              "      <div>\n",
              "<style scoped>\n",
              "    .dataframe tbody tr th:only-of-type {\n",
              "        vertical-align: middle;\n",
              "    }\n",
              "\n",
              "    .dataframe tbody tr th {\n",
              "        vertical-align: top;\n",
              "    }\n",
              "\n",
              "    .dataframe thead th {\n",
              "        text-align: right;\n",
              "    }\n",
              "</style>\n",
              "<table border=\"1\" class=\"dataframe\">\n",
              "  <thead>\n",
              "    <tr style=\"text-align: right;\">\n",
              "      <th></th>\n",
              "      <th>Word</th>\n",
              "      <th>Lemma</th>\n",
              "      <th>POS</th>\n",
              "      <th>TAG</th>\n",
              "      <th>DEP</th>\n",
              "    </tr>\n",
              "  </thead>\n",
              "  <tbody>\n",
              "    <tr>\n",
              "      <th>0</th>\n",
              "      <td>The</td>\n",
              "      <td>the</td>\n",
              "      <td>DET</td>\n",
              "      <td>DT</td>\n",
              "      <td>det</td>\n",
              "    </tr>\n",
              "    <tr>\n",
              "      <th>1</th>\n",
              "      <td>Fifth</td>\n",
              "      <td>Fifth</td>\n",
              "      <td>PROPN</td>\n",
              "      <td>NNP</td>\n",
              "      <td>amod</td>\n",
              "    </tr>\n",
              "    <tr>\n",
              "      <th>2</th>\n",
              "      <td>Elephant</td>\n",
              "      <td>Elephant</td>\n",
              "      <td>PROPN</td>\n",
              "      <td>NNP</td>\n",
              "      <td>compound</td>\n",
              "    </tr>\n",
              "    <tr>\n",
              "      <th>3</th>\n",
              "      <td>A</td>\n",
              "      <td>A</td>\n",
              "      <td>PROPN</td>\n",
              "      <td>NNP</td>\n",
              "      <td>compound</td>\n",
              "    </tr>\n",
              "    <tr>\n",
              "      <th>4</th>\n",
              "      <td>Discworld</td>\n",
              "      <td>Discworld</td>\n",
              "      <td>PROPN</td>\n",
              "      <td>NNP</td>\n",
              "      <td>compound</td>\n",
              "    </tr>\n",
              "    <tr>\n",
              "      <th>...</th>\n",
              "      <td>...</td>\n",
              "      <td>...</td>\n",
              "      <td>...</td>\n",
              "      <td>...</td>\n",
              "      <td>...</td>\n",
              "    </tr>\n",
              "    <tr>\n",
              "      <th>139459</th>\n",
              "      <td>whispered</td>\n",
              "      <td>whisper</td>\n",
              "      <td>VERB</td>\n",
              "      <td>VBD</td>\n",
              "      <td>ROOT</td>\n",
              "    </tr>\n",
              "    <tr>\n",
              "      <th>139460</th>\n",
              "      <td>.</td>\n",
              "      <td>.</td>\n",
              "      <td>PUNCT</td>\n",
              "      <td>.</td>\n",
              "      <td>punct</td>\n",
              "    </tr>\n",
              "    <tr>\n",
              "      <th>139461</th>\n",
              "      <td></td>\n",
              "      <td></td>\n",
              "      <td>SPACE</td>\n",
              "      <td>_SP</td>\n",
              "      <td></td>\n",
              "    </tr>\n",
              "    <tr>\n",
              "      <th>139462</th>\n",
              "      <td>THE</td>\n",
              "      <td>the</td>\n",
              "      <td>DET</td>\n",
              "      <td>DT</td>\n",
              "      <td>det</td>\n",
              "    </tr>\n",
              "    <tr>\n",
              "      <th>139463</th>\n",
              "      <td>END</td>\n",
              "      <td>END</td>\n",
              "      <td>PROPN</td>\n",
              "      <td>NNP</td>\n",
              "      <td>ROOT</td>\n",
              "    </tr>\n",
              "  </tbody>\n",
              "</table>\n",
              "<p>139464 rows × 5 columns</p>\n",
              "</div>\n",
              "      <button class=\"colab-df-convert\" onclick=\"convertToInteractive('df-f958368c-b936-47fc-98ae-8d6b50d1f9c6')\"\n",
              "              title=\"Convert this dataframe to an interactive table.\"\n",
              "              style=\"display:none;\">\n",
              "        \n",
              "  <svg xmlns=\"http://www.w3.org/2000/svg\" height=\"24px\"viewBox=\"0 0 24 24\"\n",
              "       width=\"24px\">\n",
              "    <path d=\"M0 0h24v24H0V0z\" fill=\"none\"/>\n",
              "    <path d=\"M18.56 5.44l.94 2.06.94-2.06 2.06-.94-2.06-.94-.94-2.06-.94 2.06-2.06.94zm-11 1L8.5 8.5l.94-2.06 2.06-.94-2.06-.94L8.5 2.5l-.94 2.06-2.06.94zm10 10l.94 2.06.94-2.06 2.06-.94-2.06-.94-.94-2.06-.94 2.06-2.06.94z\"/><path d=\"M17.41 7.96l-1.37-1.37c-.4-.4-.92-.59-1.43-.59-.52 0-1.04.2-1.43.59L10.3 9.45l-7.72 7.72c-.78.78-.78 2.05 0 2.83L4 21.41c.39.39.9.59 1.41.59.51 0 1.02-.2 1.41-.59l7.78-7.78 2.81-2.81c.8-.78.8-2.07 0-2.86zM5.41 20L4 18.59l7.72-7.72 1.47 1.35L5.41 20z\"/>\n",
              "  </svg>\n",
              "      </button>\n",
              "      \n",
              "  <style>\n",
              "    .colab-df-container {\n",
              "      display:flex;\n",
              "      flex-wrap:wrap;\n",
              "      gap: 12px;\n",
              "    }\n",
              "\n",
              "    .colab-df-convert {\n",
              "      background-color: #E8F0FE;\n",
              "      border: none;\n",
              "      border-radius: 50%;\n",
              "      cursor: pointer;\n",
              "      display: none;\n",
              "      fill: #1967D2;\n",
              "      height: 32px;\n",
              "      padding: 0 0 0 0;\n",
              "      width: 32px;\n",
              "    }\n",
              "\n",
              "    .colab-df-convert:hover {\n",
              "      background-color: #E2EBFA;\n",
              "      box-shadow: 0px 1px 2px rgba(60, 64, 67, 0.3), 0px 1px 3px 1px rgba(60, 64, 67, 0.15);\n",
              "      fill: #174EA6;\n",
              "    }\n",
              "\n",
              "    [theme=dark] .colab-df-convert {\n",
              "      background-color: #3B4455;\n",
              "      fill: #D2E3FC;\n",
              "    }\n",
              "\n",
              "    [theme=dark] .colab-df-convert:hover {\n",
              "      background-color: #434B5C;\n",
              "      box-shadow: 0px 1px 3px 1px rgba(0, 0, 0, 0.15);\n",
              "      filter: drop-shadow(0px 1px 2px rgba(0, 0, 0, 0.3));\n",
              "      fill: #FFFFFF;\n",
              "    }\n",
              "  </style>\n",
              "\n",
              "      <script>\n",
              "        const buttonEl =\n",
              "          document.querySelector('#df-f958368c-b936-47fc-98ae-8d6b50d1f9c6 button.colab-df-convert');\n",
              "        buttonEl.style.display =\n",
              "          google.colab.kernel.accessAllowed ? 'block' : 'none';\n",
              "\n",
              "        async function convertToInteractive(key) {\n",
              "          const element = document.querySelector('#df-f958368c-b936-47fc-98ae-8d6b50d1f9c6');\n",
              "          const dataTable =\n",
              "            await google.colab.kernel.invokeFunction('convertToInteractive',\n",
              "                                                     [key], {});\n",
              "          if (!dataTable) return;\n",
              "\n",
              "          const docLinkHtml = 'Like what you see? Visit the ' +\n",
              "            '<a target=\"_blank\" href=https://colab.research.google.com/notebooks/data_table.ipynb>data table notebook</a>'\n",
              "            + ' to learn more about interactive tables.';\n",
              "          element.innerHTML = '';\n",
              "          dataTable['output_type'] = 'display_data';\n",
              "          await google.colab.output.renderOutput(dataTable, element);\n",
              "          const docLink = document.createElement('div');\n",
              "          docLink.innerHTML = docLinkHtml;\n",
              "          element.appendChild(docLink);\n",
              "        }\n",
              "      </script>\n",
              "    </div>\n",
              "  </div>\n",
              "  "
            ]
          },
          "metadata": {},
          "execution_count": 7
        }
      ]
    },
    {
      "cell_type": "markdown",
      "source": [
        "### Удаление в датафрейме дубликатов строк, сохранение результирующей таблицы в формате XLSX"
      ],
      "metadata": {
        "id": "bhA7kAPzv5Rc"
      }
    },
    {
      "cell_type": "code",
      "source": [
        "# remove duplicate lines\n",
        "df_cleaned = df.drop_duplicates(keep='first', ignore_index=True)\n",
        "df_cleaned"
      ],
      "metadata": {
        "id": "-c0zaJz4v8o5",
        "colab": {
          "base_uri": "https://localhost:8080/",
          "height": 424
        },
        "outputId": "98c811f1-b352-41a8-b9e1-2a79924be64d"
      },
      "execution_count": 8,
      "outputs": [
        {
          "output_type": "execute_result",
          "data": {
            "text/plain": [
              "            Word      Lemma    POS  TAG       DEP\n",
              "0            The        the    DET   DT       det\n",
              "1          Fifth      Fifth  PROPN  NNP      amod\n",
              "2       Elephant   Elephant  PROPN  NNP  compound\n",
              "3              A          A  PROPN  NNP  compound\n",
              "4      Discworld  Discworld  PROPN  NNP  compound\n",
              "...          ...        ...    ...  ...       ...\n",
              "20203       claw       claw   NOUN   NN      pobj\n",
              "20204       need       need   VERB  VBP     advcl\n",
              "20205       sign       sign   NOUN   NN      attr\n",
              "20206         's         be    AUX  VBZ       acl\n",
              "20207        END        END  PROPN  NNP      ROOT\n",
              "\n",
              "[20208 rows x 5 columns]"
            ],
            "text/html": [
              "\n",
              "  <div id=\"df-e784c471-7c87-4810-9869-498a6d805c70\">\n",
              "    <div class=\"colab-df-container\">\n",
              "      <div>\n",
              "<style scoped>\n",
              "    .dataframe tbody tr th:only-of-type {\n",
              "        vertical-align: middle;\n",
              "    }\n",
              "\n",
              "    .dataframe tbody tr th {\n",
              "        vertical-align: top;\n",
              "    }\n",
              "\n",
              "    .dataframe thead th {\n",
              "        text-align: right;\n",
              "    }\n",
              "</style>\n",
              "<table border=\"1\" class=\"dataframe\">\n",
              "  <thead>\n",
              "    <tr style=\"text-align: right;\">\n",
              "      <th></th>\n",
              "      <th>Word</th>\n",
              "      <th>Lemma</th>\n",
              "      <th>POS</th>\n",
              "      <th>TAG</th>\n",
              "      <th>DEP</th>\n",
              "    </tr>\n",
              "  </thead>\n",
              "  <tbody>\n",
              "    <tr>\n",
              "      <th>0</th>\n",
              "      <td>The</td>\n",
              "      <td>the</td>\n",
              "      <td>DET</td>\n",
              "      <td>DT</td>\n",
              "      <td>det</td>\n",
              "    </tr>\n",
              "    <tr>\n",
              "      <th>1</th>\n",
              "      <td>Fifth</td>\n",
              "      <td>Fifth</td>\n",
              "      <td>PROPN</td>\n",
              "      <td>NNP</td>\n",
              "      <td>amod</td>\n",
              "    </tr>\n",
              "    <tr>\n",
              "      <th>2</th>\n",
              "      <td>Elephant</td>\n",
              "      <td>Elephant</td>\n",
              "      <td>PROPN</td>\n",
              "      <td>NNP</td>\n",
              "      <td>compound</td>\n",
              "    </tr>\n",
              "    <tr>\n",
              "      <th>3</th>\n",
              "      <td>A</td>\n",
              "      <td>A</td>\n",
              "      <td>PROPN</td>\n",
              "      <td>NNP</td>\n",
              "      <td>compound</td>\n",
              "    </tr>\n",
              "    <tr>\n",
              "      <th>4</th>\n",
              "      <td>Discworld</td>\n",
              "      <td>Discworld</td>\n",
              "      <td>PROPN</td>\n",
              "      <td>NNP</td>\n",
              "      <td>compound</td>\n",
              "    </tr>\n",
              "    <tr>\n",
              "      <th>...</th>\n",
              "      <td>...</td>\n",
              "      <td>...</td>\n",
              "      <td>...</td>\n",
              "      <td>...</td>\n",
              "      <td>...</td>\n",
              "    </tr>\n",
              "    <tr>\n",
              "      <th>20203</th>\n",
              "      <td>claw</td>\n",
              "      <td>claw</td>\n",
              "      <td>NOUN</td>\n",
              "      <td>NN</td>\n",
              "      <td>pobj</td>\n",
              "    </tr>\n",
              "    <tr>\n",
              "      <th>20204</th>\n",
              "      <td>need</td>\n",
              "      <td>need</td>\n",
              "      <td>VERB</td>\n",
              "      <td>VBP</td>\n",
              "      <td>advcl</td>\n",
              "    </tr>\n",
              "    <tr>\n",
              "      <th>20205</th>\n",
              "      <td>sign</td>\n",
              "      <td>sign</td>\n",
              "      <td>NOUN</td>\n",
              "      <td>NN</td>\n",
              "      <td>attr</td>\n",
              "    </tr>\n",
              "    <tr>\n",
              "      <th>20206</th>\n",
              "      <td>'s</td>\n",
              "      <td>be</td>\n",
              "      <td>AUX</td>\n",
              "      <td>VBZ</td>\n",
              "      <td>acl</td>\n",
              "    </tr>\n",
              "    <tr>\n",
              "      <th>20207</th>\n",
              "      <td>END</td>\n",
              "      <td>END</td>\n",
              "      <td>PROPN</td>\n",
              "      <td>NNP</td>\n",
              "      <td>ROOT</td>\n",
              "    </tr>\n",
              "  </tbody>\n",
              "</table>\n",
              "<p>20208 rows × 5 columns</p>\n",
              "</div>\n",
              "      <button class=\"colab-df-convert\" onclick=\"convertToInteractive('df-e784c471-7c87-4810-9869-498a6d805c70')\"\n",
              "              title=\"Convert this dataframe to an interactive table.\"\n",
              "              style=\"display:none;\">\n",
              "        \n",
              "  <svg xmlns=\"http://www.w3.org/2000/svg\" height=\"24px\"viewBox=\"0 0 24 24\"\n",
              "       width=\"24px\">\n",
              "    <path d=\"M0 0h24v24H0V0z\" fill=\"none\"/>\n",
              "    <path d=\"M18.56 5.44l.94 2.06.94-2.06 2.06-.94-2.06-.94-.94-2.06-.94 2.06-2.06.94zm-11 1L8.5 8.5l.94-2.06 2.06-.94-2.06-.94L8.5 2.5l-.94 2.06-2.06.94zm10 10l.94 2.06.94-2.06 2.06-.94-2.06-.94-.94-2.06-.94 2.06-2.06.94z\"/><path d=\"M17.41 7.96l-1.37-1.37c-.4-.4-.92-.59-1.43-.59-.52 0-1.04.2-1.43.59L10.3 9.45l-7.72 7.72c-.78.78-.78 2.05 0 2.83L4 21.41c.39.39.9.59 1.41.59.51 0 1.02-.2 1.41-.59l7.78-7.78 2.81-2.81c.8-.78.8-2.07 0-2.86zM5.41 20L4 18.59l7.72-7.72 1.47 1.35L5.41 20z\"/>\n",
              "  </svg>\n",
              "      </button>\n",
              "      \n",
              "  <style>\n",
              "    .colab-df-container {\n",
              "      display:flex;\n",
              "      flex-wrap:wrap;\n",
              "      gap: 12px;\n",
              "    }\n",
              "\n",
              "    .colab-df-convert {\n",
              "      background-color: #E8F0FE;\n",
              "      border: none;\n",
              "      border-radius: 50%;\n",
              "      cursor: pointer;\n",
              "      display: none;\n",
              "      fill: #1967D2;\n",
              "      height: 32px;\n",
              "      padding: 0 0 0 0;\n",
              "      width: 32px;\n",
              "    }\n",
              "\n",
              "    .colab-df-convert:hover {\n",
              "      background-color: #E2EBFA;\n",
              "      box-shadow: 0px 1px 2px rgba(60, 64, 67, 0.3), 0px 1px 3px 1px rgba(60, 64, 67, 0.15);\n",
              "      fill: #174EA6;\n",
              "    }\n",
              "\n",
              "    [theme=dark] .colab-df-convert {\n",
              "      background-color: #3B4455;\n",
              "      fill: #D2E3FC;\n",
              "    }\n",
              "\n",
              "    [theme=dark] .colab-df-convert:hover {\n",
              "      background-color: #434B5C;\n",
              "      box-shadow: 0px 1px 3px 1px rgba(0, 0, 0, 0.15);\n",
              "      filter: drop-shadow(0px 1px 2px rgba(0, 0, 0, 0.3));\n",
              "      fill: #FFFFFF;\n",
              "    }\n",
              "  </style>\n",
              "\n",
              "      <script>\n",
              "        const buttonEl =\n",
              "          document.querySelector('#df-e784c471-7c87-4810-9869-498a6d805c70 button.colab-df-convert');\n",
              "        buttonEl.style.display =\n",
              "          google.colab.kernel.accessAllowed ? 'block' : 'none';\n",
              "\n",
              "        async function convertToInteractive(key) {\n",
              "          const element = document.querySelector('#df-e784c471-7c87-4810-9869-498a6d805c70');\n",
              "          const dataTable =\n",
              "            await google.colab.kernel.invokeFunction('convertToInteractive',\n",
              "                                                     [key], {});\n",
              "          if (!dataTable) return;\n",
              "\n",
              "          const docLinkHtml = 'Like what you see? Visit the ' +\n",
              "            '<a target=\"_blank\" href=https://colab.research.google.com/notebooks/data_table.ipynb>data table notebook</a>'\n",
              "            + ' to learn more about interactive tables.';\n",
              "          element.innerHTML = '';\n",
              "          dataTable['output_type'] = 'display_data';\n",
              "          await google.colab.output.renderOutput(dataTable, element);\n",
              "          const docLink = document.createElement('div');\n",
              "          docLink.innerHTML = docLinkHtml;\n",
              "          element.appendChild(docLink);\n",
              "        }\n",
              "      </script>\n",
              "    </div>\n",
              "  </div>\n",
              "  "
            ]
          },
          "metadata": {},
          "execution_count": 8
        }
      ]
    },
    {
      "cell_type": "code",
      "source": [
        "# save as XLSX\n",
        "df_cleaned.to_excel('drive/MyDrive/Colab Notebooks/Internship/lesson_21/result.xlsx')"
      ],
      "metadata": {
        "id": "zDt2gP_26B-Q"
      },
      "execution_count": 9,
      "outputs": []
    },
    {
      "cell_type": "markdown",
      "source": [
        "### Построение Word2Vec-модели на базе лемм с помощью библиотеки Gensim, демонстрация результатов её работы (similarity, most_similar, most_similar_cosmul и др.)"
      ],
      "metadata": {
        "id": "2okauKj6v88p"
      }
    },
    {
      "cell_type": "code",
      "source": [
        "# create lemma list from token\n",
        "lemma_list = []\n",
        "for token in doc:\n",
        "    lemma_list.append(token.lemma_)"
      ],
      "metadata": {
        "id": "fgzb5S7yDsSh"
      },
      "execution_count": 10,
      "outputs": []
    },
    {
      "cell_type": "code",
      "source": [
        "# check 10 lemma\n",
        "print(lemma_list[2100:2110])"
      ],
      "metadata": {
        "colab": {
          "base_uri": "https://localhost:8080/"
        },
        "id": "ZAOvb98aFdz7",
        "outputId": "632c1902-12ae-45c8-b9c9-6f214f968661"
      },
      "execution_count": 11,
      "outputs": [
        {
          "output_type": "stream",
          "name": "stdout",
          "text": [
            "['of', 'course', ',', '-PRON-', 'would', 'have', 'work', 'just', 'as', 'well']\n"
          ]
        }
      ]
    },
    {
      "cell_type": "code",
      "source": [
        "# check the length of the list\n",
        "print('Length: ', len(lemma_list))"
      ],
      "metadata": {
        "colab": {
          "base_uri": "https://localhost:8080/"
        },
        "id": "mc_p3RTNAqao",
        "outputId": "bf2aa293-cbc5-4999-e993-5c53f741e482"
      },
      "execution_count": 12,
      "outputs": [
        {
          "output_type": "stream",
          "name": "stdout",
          "text": [
            "Length:  139464\n"
          ]
        }
      ]
    },
    {
      "cell_type": "code",
      "source": [
        "# building a Word2Vec model based on lemmas\n",
        "model = gensim.models.Word2Vec(\n",
        "    [lemma_list],\n",
        "    negative = 10, # negative sampling how many \"noise words\" should be drawn\n",
        "    iter = 100,\n",
        "    min_count = 1, # ignores all words with total frequency lower than this\n",
        "    window = 7, # maximum distance between the current and predicted word\n",
        "    size = 40 # dimension of the word vector\n",
        "    )"
      ],
      "metadata": {
        "id": "QIc4XJ_YGreu"
      },
      "execution_count": 13,
      "outputs": []
    },
    {
      "cell_type": "code",
      "source": [
        "print(model.wv['elephant'])"
      ],
      "metadata": {
        "colab": {
          "base_uri": "https://localhost:8080/"
        },
        "id": "SMtkUwBSG1w-",
        "outputId": "2b4e7d34-2b32-43d5-acf2-d6b5a5b519b6"
      },
      "execution_count": 14,
      "outputs": [
        {
          "output_type": "stream",
          "name": "stdout",
          "text": [
            "[ 0.9070434   1.6772268  -1.5735987   2.4732692   0.00444325 -0.28212035\n",
            " -1.2173419  -0.9830175  -0.04345713  1.1465868  -0.01455431 -0.41312334\n",
            "  1.6891828  -0.6349934   0.60966146 -0.6057399  -0.38276538  0.8523825\n",
            " -0.38825834  0.6336295   0.73003423  0.9548457   0.3124438   0.6101781\n",
            " -1.270658   -0.01822817 -0.63467103  0.3372522   1.6264573  -0.1467778\n",
            " -1.2684909  -0.4012239   0.24744898  1.4583752   0.22063929 -1.1871156\n",
            "  2.3400567  -1.7114911  -0.3455359  -0.7046714 ]\n"
          ]
        }
      ]
    },
    {
      "cell_type": "code",
      "source": [
        "print(model.wv['turtle'])"
      ],
      "metadata": {
        "colab": {
          "base_uri": "https://localhost:8080/"
        },
        "id": "cSHukm5bHGYf",
        "outputId": "99b6fd7b-5f80-45fc-83f8-3d417dbad252"
      },
      "execution_count": 15,
      "outputs": [
        {
          "output_type": "stream",
          "name": "stdout",
          "text": [
            "[ 0.21237469  0.4272008  -0.5214443   0.68625563  0.06511545 -0.08139799\n",
            " -0.23999488 -0.22123048  0.15391406  0.26535547 -0.05745091  0.08674093\n",
            "  0.44982862 -0.18549122  0.07507398 -0.2135851  -0.13127053  0.21315213\n",
            " -0.03578937  0.01409248  0.07102496  0.2122642   0.01366168  0.08339494\n",
            " -0.2657091   0.07082091 -0.25706205  0.1275276   0.40581453  0.0094082\n",
            " -0.20491344 -0.07272362 -0.04639931  0.4023438  -0.19695495 -0.30724508\n",
            "  0.50835574 -0.46540752 -0.08841686 -0.18962528]\n"
          ]
        }
      ]
    },
    {
      "cell_type": "code",
      "source": [
        "# the result of the similarity method\n",
        "model.wv.similarity('Mrs', 'lady')"
      ],
      "metadata": {
        "colab": {
          "base_uri": "https://localhost:8080/"
        },
        "id": "zPFKS_N4HgiC",
        "outputId": "329821f8-0e69-4257-d504-08d86a2d5bce"
      },
      "execution_count": 16,
      "outputs": [
        {
          "output_type": "execute_result",
          "data": {
            "text/plain": [
              "0.71696115"
            ]
          },
          "metadata": {},
          "execution_count": 16
        }
      ]
    },
    {
      "cell_type": "code",
      "source": [
        "model.wv.similarity('food', 'meal')"
      ],
      "metadata": {
        "colab": {
          "base_uri": "https://localhost:8080/"
        },
        "id": "6Gy7shElISC6",
        "outputId": "64d6ebf1-0d29-437c-b606-a46cea6426f4"
      },
      "execution_count": 17,
      "outputs": [
        {
          "output_type": "execute_result",
          "data": {
            "text/plain": [
              "0.43646362"
            ]
          },
          "metadata": {},
          "execution_count": 17
        }
      ]
    },
    {
      "cell_type": "code",
      "source": [
        "model.wv.similarity('dog', 'cat')"
      ],
      "metadata": {
        "colab": {
          "base_uri": "https://localhost:8080/"
        },
        "id": "JsKg5JuX6eUL",
        "outputId": "91e51049-8c2c-4761-edab-3efee0968bab"
      },
      "execution_count": 18,
      "outputs": [
        {
          "output_type": "execute_result",
          "data": {
            "text/plain": [
              "0.7763036"
            ]
          },
          "metadata": {},
          "execution_count": 18
        }
      ]
    },
    {
      "cell_type": "code",
      "source": [
        "model.wv.similarity('machine', 'machine')"
      ],
      "metadata": {
        "colab": {
          "base_uri": "https://localhost:8080/"
        },
        "id": "Lv67Ci6muKwx",
        "outputId": "723e190e-4e19-4aac-dd51-40649d4b8d32"
      },
      "execution_count": 19,
      "outputs": [
        {
          "output_type": "execute_result",
          "data": {
            "text/plain": [
              "1.0"
            ]
          },
          "metadata": {},
          "execution_count": 19
        }
      ]
    },
    {
      "cell_type": "code",
      "source": [
        "# the result of the most_similar method\n",
        "print(model.wv.most_similar('wolf', topn=5))  # get similar words"
      ],
      "metadata": {
        "colab": {
          "base_uri": "https://localhost:8080/"
        },
        "id": "q7tE0TjuKS8y",
        "outputId": "821b3b73-0ec6-4371-c843-214949111676"
      },
      "execution_count": 20,
      "outputs": [
        {
          "output_type": "stream",
          "name": "stdout",
          "text": [
            "[('exchange', 0.8923070430755615), ('splash', 0.8890494108200073), ('soggy', 0.8868609666824341), ('throw', 0.8729345798492432), ('crest', 0.8716309666633606)]\n"
          ]
        }
      ]
    },
    {
      "cell_type": "code",
      "source": [
        "print(model.wv.most_similar(positive=['woman', 'king'], negative=['man'], topn=5))"
      ],
      "metadata": {
        "colab": {
          "base_uri": "https://localhost:8080/"
        },
        "id": "7VuD2R8ADwNC",
        "outputId": "ef8f2374-faaa-42b9-bea2-45c64e9647ab"
      },
      "execution_count": 21,
      "outputs": [
        {
          "output_type": "stream",
          "name": "stdout",
          "text": [
            "[('truth', 0.6963328123092651), ('everyone', 0.6693935990333557), ('air', 0.6674009561538696), ('revolution', 0.6646387577056885), ('outdoor', 0.6598615050315857)]\n"
          ]
        }
      ]
    },
    {
      "cell_type": "code",
      "source": [
        "# the result of the most_similar_cosmul method\n",
        "print(model.wv.most_similar_cosmul('year', topn=5))"
      ],
      "metadata": {
        "colab": {
          "base_uri": "https://localhost:8080/"
        },
        "id": "7bRLJQC6uFci",
        "outputId": "c93188e5-5cc1-4339-cc1a-c86d32fdb236"
      },
      "execution_count": 22,
      "outputs": [
        {
          "output_type": "stream",
          "name": "stdout",
          "text": [
            "[('ago', 0.9408810138702393), ('fifteen', 0.9123499989509583), ('tree', 0.8791539072990417), ('both', 0.8725258708000183), ('tong', 0.8675180077552795)]\n"
          ]
        }
      ]
    },
    {
      "cell_type": "code",
      "source": [
        "# the result of the n_similarity method\n",
        "print(model.wv.n_similarity(['go', 'around', 'back',  'broken', 'window'], ['glass', 'break', 'front', 'door',  'open']))"
      ],
      "metadata": {
        "colab": {
          "base_uri": "https://localhost:8080/"
        },
        "id": "0ZTJDis6GwWo",
        "outputId": "7fa335b4-0d20-4c62-d264-04eb7d57eef8"
      },
      "execution_count": 23,
      "outputs": [
        {
          "output_type": "stream",
          "name": "stdout",
          "text": [
            "0.8027682\n"
          ]
        }
      ]
    },
    {
      "cell_type": "code",
      "source": [
        "# the result of the similar_by_word method\n",
        "print(model.wv.similar_by_word('elephant', topn=5))"
      ],
      "metadata": {
        "colab": {
          "base_uri": "https://localhost:8080/"
        },
        "id": "iXpz5Z8qKvZ7",
        "outputId": "879ece9b-9a93-4793-f2fa-b8e6744b3a2d"
      },
      "execution_count": 24,
      "outputs": [
        {
          "output_type": "stream",
          "name": "stdout",
          "text": [
            "[('trumpet', 0.9677475094795227), ('giant', 0.9546517729759216), ('turtle', 0.949731707572937), ('scream', 0.9404006004333496), ('atmosphere', 0.9258747100830078)]\n"
          ]
        }
      ]
    },
    {
      "cell_type": "code",
      "source": [
        "# the result of the doesnt_match method\n",
        "print(model.wv.doesnt_match(['angry', 'elephant', 'scream', 'rock']))"
      ],
      "metadata": {
        "colab": {
          "base_uri": "https://localhost:8080/"
        },
        "id": "-sGezewbysj_",
        "outputId": "8cc7610d-68e9-47e9-d1fe-9c69c41bc607"
      },
      "execution_count": 25,
      "outputs": [
        {
          "output_type": "stream",
          "name": "stdout",
          "text": [
            "rock\n"
          ]
        },
        {
          "output_type": "stream",
          "name": "stderr",
          "text": [
            "/usr/local/lib/python3.7/dist-packages/gensim/models/keyedvectors.py:895: FutureWarning: arrays to stack must be passed as a \"sequence\" type such as list or tuple. Support for non-sequence iterables such as generators is deprecated as of NumPy 1.16 and will raise an error in the future.\n",
            "  vectors = vstack(self.word_vec(word, use_norm=True) for word in used_words).astype(REAL)\n"
          ]
        }
      ]
    }
  ]
}