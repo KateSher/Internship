{
  "nbformat": 4,
  "nbformat_minor": 0,
  "metadata": {
    "colab": {
      "name": "lesson_17_ Task.ipynb",
      "provenance": [],
      "collapsed_sections": []
    },
    "kernelspec": {
      "name": "python3",
      "display_name": "Python 3"
    },
    "language_info": {
      "name": "python"
    }
  },
  "cells": [
    {
      "cell_type": "markdown",
      "source": [
        "### Загрузка библиотек"
      ],
      "metadata": {
        "id": "8-NXooXxTqJa"
      }
    },
    {
      "cell_type": "code",
      "execution_count": 1,
      "metadata": {
        "colab": {
          "base_uri": "https://localhost:8080/"
        },
        "id": "c25uUZkOEP4S",
        "outputId": "210396ea-09e6-4b7e-8b3c-4e2300c126f8"
      },
      "outputs": [
        {
          "output_type": "stream",
          "name": "stdout",
          "text": [
            "Drive already mounted at /content/drive; to attempt to forcibly remount, call drive.mount(\"/content/drive\", force_remount=True).\n"
          ]
        }
      ],
      "source": [
        "# Google drive mount\n",
        "from google.colab import drive\n",
        "drive.mount('/content/drive')\n",
        "\n",
        "# Read a csv-file into DataFrame.\n",
        "from pandas import read_csv\n",
        "\n",
        "# Split arrays or matrices into train and test subsets.\n",
        "from sklearn.model_selection import train_test_split\n",
        "\n",
        "# Standardize features by removing the mean and scaling to unit variance\n",
        "from sklearn.preprocessing import StandardScaler\n",
        "\n",
        "# Mean absolute error regression loss.\n",
        "from sklearn.metrics import mean_absolute_error\n",
        "\n",
        "# A Sequential model is appropriate for a plain stack of layers where each \n",
        "# layer has exactly one input tensor and one output tensor.\n",
        "from keras import Sequential\n",
        "\n",
        "# Dense - regular densely-connected NN layer.\n",
        "# Applies Dropout to the input.\n",
        "from keras.layers import Dense, Dropout\n",
        "\n",
        "# matplotlib.pyplot is a collection of functions that\n",
        "# make matplotlib work like MATLAB.\n",
        "from matplotlib import pyplot as plt"
      ]
    },
    {
      "cell_type": "markdown",
      "source": [
        "### Загрузка данных из файла dataset.csv в pandas-датафрейм"
      ],
      "metadata": {
        "id": "bfD68UdkG8lp"
      }
    },
    {
      "cell_type": "code",
      "source": [
        "# load the dataset\n",
        "path = 'drive/MyDrive/Colab Notebooks/Internship/lesson_17/dataset.csv'\n",
        "df = read_csv(path, names=['position','intention','success'], skiprows=1)\n",
        "df"
      ],
      "metadata": {
        "colab": {
          "base_uri": "https://localhost:8080/",
          "height": 423
        },
        "id": "44SxY-RNHGOP",
        "outputId": "af4bf1b3-4400-4a5d-b220-51e61cdf2690"
      },
      "execution_count": 2,
      "outputs": [
        {
          "output_type": "execute_result",
          "data": {
            "text/plain": [
              "      position  intention  success\n",
              "0    23.657801  18.859917      0.0\n",
              "1    22.573729  17.969223      0.0\n",
              "2    32.553424  29.463651      0.0\n",
              "3     6.718035  25.704665      1.0\n",
              "4    14.401919  16.770856      0.0\n",
              "..         ...        ...      ...\n",
              "292  27.697220  18.799309      0.0\n",
              "293  15.150959  72.000352      1.0\n",
              "294  22.264378  68.453459      1.0\n",
              "295  25.677420  90.118212      1.0\n",
              "296  21.215594  48.265520      1.0\n",
              "\n",
              "[297 rows x 3 columns]"
            ],
            "text/html": [
              "\n",
              "  <div id=\"df-8e70f632-fa93-4615-ab0a-29a718eaf348\">\n",
              "    <div class=\"colab-df-container\">\n",
              "      <div>\n",
              "<style scoped>\n",
              "    .dataframe tbody tr th:only-of-type {\n",
              "        vertical-align: middle;\n",
              "    }\n",
              "\n",
              "    .dataframe tbody tr th {\n",
              "        vertical-align: top;\n",
              "    }\n",
              "\n",
              "    .dataframe thead th {\n",
              "        text-align: right;\n",
              "    }\n",
              "</style>\n",
              "<table border=\"1\" class=\"dataframe\">\n",
              "  <thead>\n",
              "    <tr style=\"text-align: right;\">\n",
              "      <th></th>\n",
              "      <th>position</th>\n",
              "      <th>intention</th>\n",
              "      <th>success</th>\n",
              "    </tr>\n",
              "  </thead>\n",
              "  <tbody>\n",
              "    <tr>\n",
              "      <th>0</th>\n",
              "      <td>23.657801</td>\n",
              "      <td>18.859917</td>\n",
              "      <td>0.0</td>\n",
              "    </tr>\n",
              "    <tr>\n",
              "      <th>1</th>\n",
              "      <td>22.573729</td>\n",
              "      <td>17.969223</td>\n",
              "      <td>0.0</td>\n",
              "    </tr>\n",
              "    <tr>\n",
              "      <th>2</th>\n",
              "      <td>32.553424</td>\n",
              "      <td>29.463651</td>\n",
              "      <td>0.0</td>\n",
              "    </tr>\n",
              "    <tr>\n",
              "      <th>3</th>\n",
              "      <td>6.718035</td>\n",
              "      <td>25.704665</td>\n",
              "      <td>1.0</td>\n",
              "    </tr>\n",
              "    <tr>\n",
              "      <th>4</th>\n",
              "      <td>14.401919</td>\n",
              "      <td>16.770856</td>\n",
              "      <td>0.0</td>\n",
              "    </tr>\n",
              "    <tr>\n",
              "      <th>...</th>\n",
              "      <td>...</td>\n",
              "      <td>...</td>\n",
              "      <td>...</td>\n",
              "    </tr>\n",
              "    <tr>\n",
              "      <th>292</th>\n",
              "      <td>27.697220</td>\n",
              "      <td>18.799309</td>\n",
              "      <td>0.0</td>\n",
              "    </tr>\n",
              "    <tr>\n",
              "      <th>293</th>\n",
              "      <td>15.150959</td>\n",
              "      <td>72.000352</td>\n",
              "      <td>1.0</td>\n",
              "    </tr>\n",
              "    <tr>\n",
              "      <th>294</th>\n",
              "      <td>22.264378</td>\n",
              "      <td>68.453459</td>\n",
              "      <td>1.0</td>\n",
              "    </tr>\n",
              "    <tr>\n",
              "      <th>295</th>\n",
              "      <td>25.677420</td>\n",
              "      <td>90.118212</td>\n",
              "      <td>1.0</td>\n",
              "    </tr>\n",
              "    <tr>\n",
              "      <th>296</th>\n",
              "      <td>21.215594</td>\n",
              "      <td>48.265520</td>\n",
              "      <td>1.0</td>\n",
              "    </tr>\n",
              "  </tbody>\n",
              "</table>\n",
              "<p>297 rows × 3 columns</p>\n",
              "</div>\n",
              "      <button class=\"colab-df-convert\" onclick=\"convertToInteractive('df-8e70f632-fa93-4615-ab0a-29a718eaf348')\"\n",
              "              title=\"Convert this dataframe to an interactive table.\"\n",
              "              style=\"display:none;\">\n",
              "        \n",
              "  <svg xmlns=\"http://www.w3.org/2000/svg\" height=\"24px\"viewBox=\"0 0 24 24\"\n",
              "       width=\"24px\">\n",
              "    <path d=\"M0 0h24v24H0V0z\" fill=\"none\"/>\n",
              "    <path d=\"M18.56 5.44l.94 2.06.94-2.06 2.06-.94-2.06-.94-.94-2.06-.94 2.06-2.06.94zm-11 1L8.5 8.5l.94-2.06 2.06-.94-2.06-.94L8.5 2.5l-.94 2.06-2.06.94zm10 10l.94 2.06.94-2.06 2.06-.94-2.06-.94-.94-2.06-.94 2.06-2.06.94z\"/><path d=\"M17.41 7.96l-1.37-1.37c-.4-.4-.92-.59-1.43-.59-.52 0-1.04.2-1.43.59L10.3 9.45l-7.72 7.72c-.78.78-.78 2.05 0 2.83L4 21.41c.39.39.9.59 1.41.59.51 0 1.02-.2 1.41-.59l7.78-7.78 2.81-2.81c.8-.78.8-2.07 0-2.86zM5.41 20L4 18.59l7.72-7.72 1.47 1.35L5.41 20z\"/>\n",
              "  </svg>\n",
              "      </button>\n",
              "      \n",
              "  <style>\n",
              "    .colab-df-container {\n",
              "      display:flex;\n",
              "      flex-wrap:wrap;\n",
              "      gap: 12px;\n",
              "    }\n",
              "\n",
              "    .colab-df-convert {\n",
              "      background-color: #E8F0FE;\n",
              "      border: none;\n",
              "      border-radius: 50%;\n",
              "      cursor: pointer;\n",
              "      display: none;\n",
              "      fill: #1967D2;\n",
              "      height: 32px;\n",
              "      padding: 0 0 0 0;\n",
              "      width: 32px;\n",
              "    }\n",
              "\n",
              "    .colab-df-convert:hover {\n",
              "      background-color: #E2EBFA;\n",
              "      box-shadow: 0px 1px 2px rgba(60, 64, 67, 0.3), 0px 1px 3px 1px rgba(60, 64, 67, 0.15);\n",
              "      fill: #174EA6;\n",
              "    }\n",
              "\n",
              "    [theme=dark] .colab-df-convert {\n",
              "      background-color: #3B4455;\n",
              "      fill: #D2E3FC;\n",
              "    }\n",
              "\n",
              "    [theme=dark] .colab-df-convert:hover {\n",
              "      background-color: #434B5C;\n",
              "      box-shadow: 0px 1px 3px 1px rgba(0, 0, 0, 0.15);\n",
              "      filter: drop-shadow(0px 1px 2px rgba(0, 0, 0, 0.3));\n",
              "      fill: #FFFFFF;\n",
              "    }\n",
              "  </style>\n",
              "\n",
              "      <script>\n",
              "        const buttonEl =\n",
              "          document.querySelector('#df-8e70f632-fa93-4615-ab0a-29a718eaf348 button.colab-df-convert');\n",
              "        buttonEl.style.display =\n",
              "          google.colab.kernel.accessAllowed ? 'block' : 'none';\n",
              "\n",
              "        async function convertToInteractive(key) {\n",
              "          const element = document.querySelector('#df-8e70f632-fa93-4615-ab0a-29a718eaf348');\n",
              "          const dataTable =\n",
              "            await google.colab.kernel.invokeFunction('convertToInteractive',\n",
              "                                                     [key], {});\n",
              "          if (!dataTable) return;\n",
              "\n",
              "          const docLinkHtml = 'Like what you see? Visit the ' +\n",
              "            '<a target=\"_blank\" href=https://colab.research.google.com/notebooks/data_table.ipynb>data table notebook</a>'\n",
              "            + ' to learn more about interactive tables.';\n",
              "          element.innerHTML = '';\n",
              "          dataTable['output_type'] = 'display_data';\n",
              "          await google.colab.output.renderOutput(dataTable, element);\n",
              "          const docLink = document.createElement('div');\n",
              "          docLink.innerHTML = docLinkHtml;\n",
              "          element.appendChild(docLink);\n",
              "        }\n",
              "      </script>\n",
              "    </div>\n",
              "  </div>\n",
              "  "
            ]
          },
          "metadata": {},
          "execution_count": 2
        }
      ]
    },
    {
      "cell_type": "markdown",
      "source": [
        "### Разделение на входные и выходные столбцы"
      ],
      "metadata": {
        "id": "fHRMhJiUyJqb"
      }
    },
    {
      "cell_type": "code",
      "source": [
        "# Split into input and output columns\n",
        "X = df.drop(columns=['success']).to_numpy()\n",
        "y = df.drop(columns=['position', 'intention']).to_numpy()\n",
        "print(X[:5])\n",
        "print(y[:5])"
      ],
      "metadata": {
        "colab": {
          "base_uri": "https://localhost:8080/"
        },
        "id": "4UXBPJGCyY8E",
        "outputId": "b5ce40a6-63de-46fb-f89c-77cfb38a5cfa"
      },
      "execution_count": 3,
      "outputs": [
        {
          "output_type": "stream",
          "name": "stdout",
          "text": [
            "[[23.65780072 18.8599168 ]\n",
            " [22.57372914 17.96922325]\n",
            " [32.55342397 29.46365141]\n",
            " [ 6.71803504 25.70466547]\n",
            " [14.40191857 16.77085649]]\n",
            "[[0.]\n",
            " [0.]\n",
            " [0.]\n",
            " [1.]\n",
            " [0.]]\n"
          ]
        }
      ]
    },
    {
      "cell_type": "markdown",
      "source": [
        "### Разделение на обучающие и тестовые наборы данных"
      ],
      "metadata": {
        "id": "llXW1HIx015G"
      }
    },
    {
      "cell_type": "code",
      "source": [
        "# Split into train and test datasets\n",
        "X_train, X_test, y_train, y_test = train_test_split(X, y, train_size = 0.8)"
      ],
      "metadata": {
        "id": "kGXbMBsX01aT"
      },
      "execution_count": 4,
      "outputs": []
    },
    {
      "cell_type": "markdown",
      "source": [
        "### Преобразование входных данных путем их шкалирования"
      ],
      "metadata": {
        "id": "rtvY8ItV5R1b"
      }
    },
    {
      "cell_type": "code",
      "source": [
        "# Scale the data\n",
        "scaler = StandardScaler()\n",
        "scaler.fit(X_train)\n",
        "X_train= scaler.transform(X_train)\n",
        "X_test = scaler.transform(X_test)\n",
        "print(X_train[:5])\n",
        "print(X_test[:5])"
      ],
      "metadata": {
        "colab": {
          "base_uri": "https://localhost:8080/"
        },
        "id": "yeOYyNyJ3EJt",
        "outputId": "8389c020-4434-45fe-b1f4-8c14ce810a14"
      },
      "execution_count": 5,
      "outputs": [
        {
          "output_type": "stream",
          "name": "stdout",
          "text": [
            "[[ 1.22182837 -0.85928553]\n",
            " [ 0.8793858   1.1614659 ]\n",
            " [-1.67963444  0.24438451]\n",
            " [-0.82710538 -0.33225654]\n",
            " [-1.95163744 -0.9828957 ]]\n",
            "[[ 0.86916048 -0.18893831]\n",
            " [ 0.10471587  2.26843078]\n",
            " [-0.98849008  0.28754592]\n",
            " [-0.72847417 -1.20404737]\n",
            " [ 0.59585858 -1.27883516]]\n"
          ]
        }
      ]
    },
    {
      "cell_type": "markdown",
      "source": [
        "### Построение, компилирование и обучение модели"
      ],
      "metadata": {
        "id": "oUg-27gX5nLv"
      }
    },
    {
      "cell_type": "code",
      "source": [
        "# Define model\n",
        "model = Sequential()\n",
        "model.add(Dense(28,\n",
        "                activation='relu',\n",
        "                kernel_initializer='he_normal',\n",
        "                input_shape=(2,)))\n",
        "model.add(Dense(20,\n",
        "                activation='relu',\n",
        "                kernel_initializer='he_normal')) # the way to set the initial\n",
        "                                                 # random weights of Keras layers.\n",
        "                                                 # He normal initializer.\n",
        "                                                 # It draws samples from a truncated\n",
        "                                                 # normal distribution.\n",
        "model.add(Dropout(0.05))\n",
        "model.add(Dense(6, activation='relu'))\n",
        "model.add(Dense(2, activation='softmax'))\n",
        "\n",
        "# Compile the model\n",
        "model.compile(optimizer='adam', \n",
        "              loss='sparse_categorical_crossentropy', \n",
        "              metrics=['acc'])\n",
        "# Fit the model\n",
        "history = model.fit(X_train, y_train,\n",
        "                    epochs=130,\n",
        "                    batch_size=8,\n",
        "                    verbose=2,\n",
        "                    validation_data=(X_test, y_test))"
      ],
      "metadata": {
        "id": "4-11lCdL6HsW",
        "colab": {
          "base_uri": "https://localhost:8080/"
        },
        "outputId": "d4a73800-d54e-406c-f0b1-d96d11578099"
      },
      "execution_count": 6,
      "outputs": [
        {
          "output_type": "stream",
          "name": "stdout",
          "text": [
            "Epoch 1/130\n",
            "30/30 - 1s - loss: 0.6730 - acc: 0.5485 - val_loss: 0.5399 - val_acc: 0.6500 - 783ms/epoch - 26ms/step\n",
            "Epoch 2/130\n",
            "30/30 - 0s - loss: 0.4645 - acc: 0.7932 - val_loss: 0.3890 - val_acc: 0.9333 - 79ms/epoch - 3ms/step\n",
            "Epoch 3/130\n",
            "30/30 - 0s - loss: 0.3751 - acc: 0.8819 - val_loss: 0.2956 - val_acc: 0.9333 - 105ms/epoch - 3ms/step\n",
            "Epoch 4/130\n",
            "30/30 - 0s - loss: 0.3139 - acc: 0.8987 - val_loss: 0.2358 - val_acc: 0.9500 - 90ms/epoch - 3ms/step\n",
            "Epoch 5/130\n",
            "30/30 - 0s - loss: 0.2848 - acc: 0.9072 - val_loss: 0.1982 - val_acc: 0.9500 - 93ms/epoch - 3ms/step\n",
            "Epoch 6/130\n",
            "30/30 - 0s - loss: 0.2664 - acc: 0.8987 - val_loss: 0.1836 - val_acc: 0.9667 - 80ms/epoch - 3ms/step\n",
            "Epoch 7/130\n",
            "30/30 - 0s - loss: 0.2615 - acc: 0.9114 - val_loss: 0.1742 - val_acc: 0.9500 - 74ms/epoch - 2ms/step\n",
            "Epoch 8/130\n",
            "30/30 - 0s - loss: 0.2479 - acc: 0.9156 - val_loss: 0.1602 - val_acc: 0.9500 - 78ms/epoch - 3ms/step\n",
            "Epoch 9/130\n",
            "30/30 - 0s - loss: 0.2451 - acc: 0.9198 - val_loss: 0.1608 - val_acc: 0.9667 - 92ms/epoch - 3ms/step\n",
            "Epoch 10/130\n",
            "30/30 - 0s - loss: 0.2412 - acc: 0.9114 - val_loss: 0.1578 - val_acc: 0.9667 - 92ms/epoch - 3ms/step\n",
            "Epoch 11/130\n",
            "30/30 - 0s - loss: 0.2462 - acc: 0.9198 - val_loss: 0.1561 - val_acc: 0.9667 - 76ms/epoch - 3ms/step\n",
            "Epoch 12/130\n",
            "30/30 - 0s - loss: 0.2440 - acc: 0.9241 - val_loss: 0.1599 - val_acc: 0.9333 - 83ms/epoch - 3ms/step\n",
            "Epoch 13/130\n",
            "30/30 - 0s - loss: 0.2420 - acc: 0.9241 - val_loss: 0.1502 - val_acc: 0.9667 - 79ms/epoch - 3ms/step\n",
            "Epoch 14/130\n",
            "30/30 - 0s - loss: 0.2399 - acc: 0.9198 - val_loss: 0.1493 - val_acc: 0.9667 - 86ms/epoch - 3ms/step\n",
            "Epoch 15/130\n",
            "30/30 - 0s - loss: 0.2270 - acc: 0.9241 - val_loss: 0.1655 - val_acc: 0.9167 - 84ms/epoch - 3ms/step\n",
            "Epoch 16/130\n",
            "30/30 - 0s - loss: 0.2292 - acc: 0.9283 - val_loss: 0.1438 - val_acc: 0.9500 - 77ms/epoch - 3ms/step\n",
            "Epoch 17/130\n",
            "30/30 - 0s - loss: 0.2357 - acc: 0.9198 - val_loss: 0.1586 - val_acc: 0.9167 - 109ms/epoch - 4ms/step\n",
            "Epoch 18/130\n",
            "30/30 - 0s - loss: 0.2117 - acc: 0.9241 - val_loss: 0.1535 - val_acc: 0.9500 - 94ms/epoch - 3ms/step\n",
            "Epoch 19/130\n",
            "30/30 - 0s - loss: 0.2386 - acc: 0.9241 - val_loss: 0.1424 - val_acc: 0.9333 - 80ms/epoch - 3ms/step\n",
            "Epoch 20/130\n",
            "30/30 - 0s - loss: 0.2222 - acc: 0.9283 - val_loss: 0.1529 - val_acc: 0.9167 - 91ms/epoch - 3ms/step\n",
            "Epoch 21/130\n",
            "30/30 - 0s - loss: 0.2136 - acc: 0.9325 - val_loss: 0.1471 - val_acc: 0.9500 - 76ms/epoch - 3ms/step\n",
            "Epoch 22/130\n",
            "30/30 - 0s - loss: 0.2224 - acc: 0.9283 - val_loss: 0.1557 - val_acc: 0.9167 - 81ms/epoch - 3ms/step\n",
            "Epoch 23/130\n",
            "30/30 - 0s - loss: 0.2072 - acc: 0.9325 - val_loss: 0.1611 - val_acc: 0.9000 - 78ms/epoch - 3ms/step\n",
            "Epoch 24/130\n",
            "30/30 - 0s - loss: 0.2243 - acc: 0.9283 - val_loss: 0.1414 - val_acc: 0.9500 - 79ms/epoch - 3ms/step\n",
            "Epoch 25/130\n",
            "30/30 - 0s - loss: 0.2238 - acc: 0.9367 - val_loss: 0.1525 - val_acc: 0.9167 - 95ms/epoch - 3ms/step\n",
            "Epoch 26/130\n",
            "30/30 - 0s - loss: 0.2175 - acc: 0.9198 - val_loss: 0.1442 - val_acc: 0.9500 - 87ms/epoch - 3ms/step\n",
            "Epoch 27/130\n",
            "30/30 - 0s - loss: 0.2203 - acc: 0.9283 - val_loss: 0.1417 - val_acc: 0.9500 - 94ms/epoch - 3ms/step\n",
            "Epoch 28/130\n",
            "30/30 - 0s - loss: 0.2150 - acc: 0.9156 - val_loss: 0.1464 - val_acc: 0.9500 - 80ms/epoch - 3ms/step\n",
            "Epoch 29/130\n",
            "30/30 - 0s - loss: 0.2241 - acc: 0.9325 - val_loss: 0.1462 - val_acc: 0.9333 - 94ms/epoch - 3ms/step\n",
            "Epoch 30/130\n",
            "30/30 - 0s - loss: 0.2141 - acc: 0.9283 - val_loss: 0.1483 - val_acc: 0.9167 - 77ms/epoch - 3ms/step\n",
            "Epoch 31/130\n",
            "30/30 - 0s - loss: 0.2261 - acc: 0.9283 - val_loss: 0.1481 - val_acc: 0.9167 - 94ms/epoch - 3ms/step\n",
            "Epoch 32/130\n",
            "30/30 - 0s - loss: 0.2162 - acc: 0.9325 - val_loss: 0.1515 - val_acc: 0.9167 - 78ms/epoch - 3ms/step\n",
            "Epoch 33/130\n",
            "30/30 - 0s - loss: 0.2145 - acc: 0.9367 - val_loss: 0.1462 - val_acc: 0.9333 - 89ms/epoch - 3ms/step\n",
            "Epoch 34/130\n",
            "30/30 - 0s - loss: 0.2234 - acc: 0.9367 - val_loss: 0.1533 - val_acc: 0.9167 - 91ms/epoch - 3ms/step\n",
            "Epoch 35/130\n",
            "30/30 - 0s - loss: 0.2181 - acc: 0.9283 - val_loss: 0.1424 - val_acc: 0.9500 - 86ms/epoch - 3ms/step\n",
            "Epoch 36/130\n",
            "30/30 - 0s - loss: 0.2028 - acc: 0.9325 - val_loss: 0.1485 - val_acc: 0.9167 - 84ms/epoch - 3ms/step\n",
            "Epoch 37/130\n",
            "30/30 - 0s - loss: 0.2100 - acc: 0.9283 - val_loss: 0.1449 - val_acc: 0.9500 - 87ms/epoch - 3ms/step\n",
            "Epoch 38/130\n",
            "30/30 - 0s - loss: 0.2237 - acc: 0.9156 - val_loss: 0.1435 - val_acc: 0.9500 - 89ms/epoch - 3ms/step\n",
            "Epoch 39/130\n",
            "30/30 - 0s - loss: 0.2124 - acc: 0.9156 - val_loss: 0.1490 - val_acc: 0.9167 - 77ms/epoch - 3ms/step\n",
            "Epoch 40/130\n",
            "30/30 - 0s - loss: 0.2161 - acc: 0.9198 - val_loss: 0.1501 - val_acc: 0.9167 - 73ms/epoch - 2ms/step\n",
            "Epoch 41/130\n",
            "30/30 - 0s - loss: 0.2095 - acc: 0.9367 - val_loss: 0.1491 - val_acc: 0.9167 - 89ms/epoch - 3ms/step\n",
            "Epoch 42/130\n",
            "30/30 - 0s - loss: 0.2061 - acc: 0.9409 - val_loss: 0.1505 - val_acc: 0.9167 - 85ms/epoch - 3ms/step\n",
            "Epoch 43/130\n",
            "30/30 - 0s - loss: 0.2166 - acc: 0.9367 - val_loss: 0.1440 - val_acc: 0.9500 - 74ms/epoch - 2ms/step\n",
            "Epoch 44/130\n",
            "30/30 - 0s - loss: 0.2039 - acc: 0.9241 - val_loss: 0.1442 - val_acc: 0.9167 - 72ms/epoch - 2ms/step\n",
            "Epoch 45/130\n",
            "30/30 - 0s - loss: 0.2068 - acc: 0.9283 - val_loss: 0.1411 - val_acc: 0.9167 - 75ms/epoch - 3ms/step\n",
            "Epoch 46/130\n",
            "30/30 - 0s - loss: 0.2010 - acc: 0.9241 - val_loss: 0.1446 - val_acc: 0.9167 - 76ms/epoch - 3ms/step\n",
            "Epoch 47/130\n",
            "30/30 - 0s - loss: 0.2109 - acc: 0.9283 - val_loss: 0.1448 - val_acc: 0.9167 - 84ms/epoch - 3ms/step\n",
            "Epoch 48/130\n",
            "30/30 - 0s - loss: 0.2107 - acc: 0.9283 - val_loss: 0.1430 - val_acc: 0.9167 - 86ms/epoch - 3ms/step\n",
            "Epoch 49/130\n",
            "30/30 - 0s - loss: 0.1985 - acc: 0.9325 - val_loss: 0.1359 - val_acc: 0.9500 - 84ms/epoch - 3ms/step\n",
            "Epoch 50/130\n",
            "30/30 - 0s - loss: 0.2013 - acc: 0.9367 - val_loss: 0.1485 - val_acc: 0.9167 - 83ms/epoch - 3ms/step\n",
            "Epoch 51/130\n",
            "30/30 - 0s - loss: 0.2048 - acc: 0.9325 - val_loss: 0.1430 - val_acc: 0.9500 - 77ms/epoch - 3ms/step\n",
            "Epoch 52/130\n",
            "30/30 - 0s - loss: 0.2029 - acc: 0.9283 - val_loss: 0.1460 - val_acc: 0.9167 - 78ms/epoch - 3ms/step\n",
            "Epoch 53/130\n",
            "30/30 - 0s - loss: 0.2057 - acc: 0.9325 - val_loss: 0.1434 - val_acc: 0.9167 - 74ms/epoch - 2ms/step\n",
            "Epoch 54/130\n",
            "30/30 - 0s - loss: 0.2023 - acc: 0.9241 - val_loss: 0.1349 - val_acc: 0.9500 - 86ms/epoch - 3ms/step\n",
            "Epoch 55/130\n",
            "30/30 - 0s - loss: 0.2050 - acc: 0.9494 - val_loss: 0.1396 - val_acc: 0.9167 - 74ms/epoch - 2ms/step\n",
            "Epoch 56/130\n",
            "30/30 - 0s - loss: 0.2090 - acc: 0.9283 - val_loss: 0.1473 - val_acc: 0.9167 - 70ms/epoch - 2ms/step\n",
            "Epoch 57/130\n",
            "30/30 - 0s - loss: 0.1998 - acc: 0.9409 - val_loss: 0.1490 - val_acc: 0.9167 - 74ms/epoch - 2ms/step\n",
            "Epoch 58/130\n",
            "30/30 - 0s - loss: 0.2017 - acc: 0.9325 - val_loss: 0.1367 - val_acc: 0.9500 - 86ms/epoch - 3ms/step\n",
            "Epoch 59/130\n",
            "30/30 - 0s - loss: 0.2086 - acc: 0.9198 - val_loss: 0.1361 - val_acc: 0.9500 - 87ms/epoch - 3ms/step\n",
            "Epoch 60/130\n",
            "30/30 - 0s - loss: 0.2182 - acc: 0.9198 - val_loss: 0.1342 - val_acc: 0.9500 - 83ms/epoch - 3ms/step\n",
            "Epoch 61/130\n",
            "30/30 - 0s - loss: 0.2151 - acc: 0.9198 - val_loss: 0.1546 - val_acc: 0.9000 - 96ms/epoch - 3ms/step\n",
            "Epoch 62/130\n",
            "30/30 - 0s - loss: 0.1890 - acc: 0.9367 - val_loss: 0.1445 - val_acc: 0.9500 - 88ms/epoch - 3ms/step\n",
            "Epoch 63/130\n",
            "30/30 - 0s - loss: 0.1989 - acc: 0.9409 - val_loss: 0.1395 - val_acc: 0.9167 - 76ms/epoch - 3ms/step\n",
            "Epoch 64/130\n",
            "30/30 - 0s - loss: 0.2000 - acc: 0.9241 - val_loss: 0.1409 - val_acc: 0.9167 - 79ms/epoch - 3ms/step\n",
            "Epoch 65/130\n",
            "30/30 - 0s - loss: 0.2001 - acc: 0.9325 - val_loss: 0.1441 - val_acc: 0.9167 - 74ms/epoch - 2ms/step\n",
            "Epoch 66/130\n",
            "30/30 - 0s - loss: 0.1908 - acc: 0.9409 - val_loss: 0.1330 - val_acc: 0.9500 - 89ms/epoch - 3ms/step\n",
            "Epoch 67/130\n",
            "30/30 - 0s - loss: 0.1989 - acc: 0.9367 - val_loss: 0.1394 - val_acc: 0.9167 - 73ms/epoch - 2ms/step\n",
            "Epoch 68/130\n",
            "30/30 - 0s - loss: 0.1925 - acc: 0.9367 - val_loss: 0.1356 - val_acc: 0.9500 - 76ms/epoch - 3ms/step\n",
            "Epoch 69/130\n",
            "30/30 - 0s - loss: 0.1895 - acc: 0.9367 - val_loss: 0.1416 - val_acc: 0.9167 - 85ms/epoch - 3ms/step\n",
            "Epoch 70/130\n",
            "30/30 - 0s - loss: 0.2045 - acc: 0.9325 - val_loss: 0.1442 - val_acc: 0.9167 - 81ms/epoch - 3ms/step\n",
            "Epoch 71/130\n",
            "30/30 - 0s - loss: 0.2009 - acc: 0.9367 - val_loss: 0.1372 - val_acc: 0.9167 - 74ms/epoch - 2ms/step\n",
            "Epoch 72/130\n",
            "30/30 - 0s - loss: 0.1976 - acc: 0.9409 - val_loss: 0.1388 - val_acc: 0.9167 - 73ms/epoch - 2ms/step\n",
            "Epoch 73/130\n",
            "30/30 - 0s - loss: 0.1949 - acc: 0.9409 - val_loss: 0.1298 - val_acc: 0.9500 - 104ms/epoch - 3ms/step\n",
            "Epoch 74/130\n",
            "30/30 - 0s - loss: 0.1912 - acc: 0.9325 - val_loss: 0.1408 - val_acc: 0.9167 - 84ms/epoch - 3ms/step\n",
            "Epoch 75/130\n",
            "30/30 - 0s - loss: 0.1882 - acc: 0.9325 - val_loss: 0.1404 - val_acc: 0.9167 - 91ms/epoch - 3ms/step\n",
            "Epoch 76/130\n",
            "30/30 - 0s - loss: 0.2042 - acc: 0.9451 - val_loss: 0.1310 - val_acc: 0.9500 - 76ms/epoch - 3ms/step\n",
            "Epoch 77/130\n",
            "30/30 - 0s - loss: 0.1930 - acc: 0.9325 - val_loss: 0.1459 - val_acc: 0.9167 - 99ms/epoch - 3ms/step\n",
            "Epoch 78/130\n",
            "30/30 - 0s - loss: 0.2018 - acc: 0.9114 - val_loss: 0.1361 - val_acc: 0.9500 - 70ms/epoch - 2ms/step\n",
            "Epoch 79/130\n",
            "30/30 - 0s - loss: 0.1982 - acc: 0.9283 - val_loss: 0.1362 - val_acc: 0.9500 - 74ms/epoch - 2ms/step\n",
            "Epoch 80/130\n",
            "30/30 - 0s - loss: 0.1935 - acc: 0.9367 - val_loss: 0.1336 - val_acc: 0.9667 - 70ms/epoch - 2ms/step\n",
            "Epoch 81/130\n",
            "30/30 - 0s - loss: 0.1916 - acc: 0.9367 - val_loss: 0.1460 - val_acc: 0.9167 - 70ms/epoch - 2ms/step\n",
            "Epoch 82/130\n",
            "30/30 - 0s - loss: 0.1808 - acc: 0.9451 - val_loss: 0.1345 - val_acc: 0.9500 - 76ms/epoch - 3ms/step\n",
            "Epoch 83/130\n",
            "30/30 - 0s - loss: 0.1780 - acc: 0.9409 - val_loss: 0.1449 - val_acc: 0.9000 - 70ms/epoch - 2ms/step\n",
            "Epoch 84/130\n",
            "30/30 - 0s - loss: 0.1883 - acc: 0.9367 - val_loss: 0.1417 - val_acc: 0.9167 - 75ms/epoch - 3ms/step\n",
            "Epoch 85/130\n",
            "30/30 - 0s - loss: 0.1904 - acc: 0.9409 - val_loss: 0.1340 - val_acc: 0.9667 - 95ms/epoch - 3ms/step\n",
            "Epoch 86/130\n",
            "30/30 - 0s - loss: 0.2005 - acc: 0.9283 - val_loss: 0.1398 - val_acc: 0.9167 - 76ms/epoch - 3ms/step\n",
            "Epoch 87/130\n",
            "30/30 - 0s - loss: 0.1855 - acc: 0.9325 - val_loss: 0.1323 - val_acc: 0.9167 - 83ms/epoch - 3ms/step\n",
            "Epoch 88/130\n",
            "30/30 - 0s - loss: 0.1889 - acc: 0.9451 - val_loss: 0.1422 - val_acc: 0.9167 - 74ms/epoch - 2ms/step\n",
            "Epoch 89/130\n",
            "30/30 - 0s - loss: 0.1813 - acc: 0.9367 - val_loss: 0.1457 - val_acc: 0.9000 - 84ms/epoch - 3ms/step\n",
            "Epoch 90/130\n",
            "30/30 - 0s - loss: 0.1904 - acc: 0.9241 - val_loss: 0.1452 - val_acc: 0.9167 - 78ms/epoch - 3ms/step\n",
            "Epoch 91/130\n",
            "30/30 - 0s - loss: 0.1916 - acc: 0.9283 - val_loss: 0.1317 - val_acc: 0.9667 - 83ms/epoch - 3ms/step\n",
            "Epoch 92/130\n",
            "30/30 - 0s - loss: 0.1837 - acc: 0.9325 - val_loss: 0.1304 - val_acc: 0.9667 - 78ms/epoch - 3ms/step\n",
            "Epoch 93/130\n",
            "30/30 - 0s - loss: 0.1918 - acc: 0.9325 - val_loss: 0.1402 - val_acc: 0.9167 - 87ms/epoch - 3ms/step\n",
            "Epoch 94/130\n",
            "30/30 - 0s - loss: 0.1861 - acc: 0.9241 - val_loss: 0.1385 - val_acc: 0.9500 - 73ms/epoch - 2ms/step\n",
            "Epoch 95/130\n",
            "30/30 - 0s - loss: 0.1929 - acc: 0.9283 - val_loss: 0.1454 - val_acc: 0.9167 - 93ms/epoch - 3ms/step\n",
            "Epoch 96/130\n",
            "30/30 - 0s - loss: 0.1940 - acc: 0.9367 - val_loss: 0.1397 - val_acc: 0.9333 - 87ms/epoch - 3ms/step\n",
            "Epoch 97/130\n",
            "30/30 - 0s - loss: 0.1863 - acc: 0.9367 - val_loss: 0.1383 - val_acc: 0.9167 - 93ms/epoch - 3ms/step\n",
            "Epoch 98/130\n",
            "30/30 - 0s - loss: 0.1925 - acc: 0.9409 - val_loss: 0.1334 - val_acc: 0.9500 - 90ms/epoch - 3ms/step\n",
            "Epoch 99/130\n",
            "30/30 - 0s - loss: 0.1861 - acc: 0.9409 - val_loss: 0.1412 - val_acc: 0.9333 - 75ms/epoch - 2ms/step\n",
            "Epoch 100/130\n",
            "30/30 - 0s - loss: 0.1749 - acc: 0.9451 - val_loss: 0.1414 - val_acc: 0.9167 - 78ms/epoch - 3ms/step\n",
            "Epoch 101/130\n",
            "30/30 - 0s - loss: 0.1833 - acc: 0.9409 - val_loss: 0.1400 - val_acc: 0.9333 - 75ms/epoch - 3ms/step\n",
            "Epoch 102/130\n",
            "30/30 - 0s - loss: 0.1903 - acc: 0.9367 - val_loss: 0.1354 - val_acc: 0.9333 - 84ms/epoch - 3ms/step\n",
            "Epoch 103/130\n",
            "30/30 - 0s - loss: 0.2015 - acc: 0.9198 - val_loss: 0.1338 - val_acc: 0.9500 - 73ms/epoch - 2ms/step\n",
            "Epoch 104/130\n",
            "30/30 - 0s - loss: 0.1827 - acc: 0.9409 - val_loss: 0.1344 - val_acc: 0.9167 - 74ms/epoch - 2ms/step\n",
            "Epoch 105/130\n",
            "30/30 - 0s - loss: 0.1822 - acc: 0.9367 - val_loss: 0.1371 - val_acc: 0.9667 - 72ms/epoch - 2ms/step\n",
            "Epoch 106/130\n",
            "30/30 - 0s - loss: 0.1873 - acc: 0.9325 - val_loss: 0.1327 - val_acc: 0.9667 - 72ms/epoch - 2ms/step\n",
            "Epoch 107/130\n",
            "30/30 - 0s - loss: 0.1812 - acc: 0.9367 - val_loss: 0.1333 - val_acc: 0.9667 - 75ms/epoch - 2ms/step\n",
            "Epoch 108/130\n",
            "30/30 - 0s - loss: 0.1851 - acc: 0.9409 - val_loss: 0.1392 - val_acc: 0.9333 - 74ms/epoch - 2ms/step\n",
            "Epoch 109/130\n",
            "30/30 - 0s - loss: 0.1707 - acc: 0.9494 - val_loss: 0.1356 - val_acc: 0.9333 - 86ms/epoch - 3ms/step\n",
            "Epoch 110/130\n",
            "30/30 - 0s - loss: 0.1858 - acc: 0.9451 - val_loss: 0.1436 - val_acc: 0.9167 - 87ms/epoch - 3ms/step\n",
            "Epoch 111/130\n",
            "30/30 - 0s - loss: 0.1731 - acc: 0.9283 - val_loss: 0.1353 - val_acc: 0.9667 - 76ms/epoch - 3ms/step\n",
            "Epoch 112/130\n",
            "30/30 - 0s - loss: 0.1899 - acc: 0.9325 - val_loss: 0.1419 - val_acc: 0.9167 - 88ms/epoch - 3ms/step\n",
            "Epoch 113/130\n",
            "30/30 - 0s - loss: 0.1707 - acc: 0.9409 - val_loss: 0.1357 - val_acc: 0.9333 - 88ms/epoch - 3ms/step\n",
            "Epoch 114/130\n",
            "30/30 - 0s - loss: 0.1785 - acc: 0.9283 - val_loss: 0.1402 - val_acc: 0.9333 - 91ms/epoch - 3ms/step\n",
            "Epoch 115/130\n",
            "30/30 - 0s - loss: 0.1795 - acc: 0.9451 - val_loss: 0.1362 - val_acc: 0.9333 - 71ms/epoch - 2ms/step\n",
            "Epoch 116/130\n",
            "30/30 - 0s - loss: 0.1614 - acc: 0.9367 - val_loss: 0.1248 - val_acc: 0.9667 - 84ms/epoch - 3ms/step\n",
            "Epoch 117/130\n",
            "30/30 - 0s - loss: 0.1901 - acc: 0.9283 - val_loss: 0.1224 - val_acc: 0.9667 - 76ms/epoch - 3ms/step\n",
            "Epoch 118/130\n",
            "30/30 - 0s - loss: 0.1856 - acc: 0.9325 - val_loss: 0.1429 - val_acc: 0.9167 - 76ms/epoch - 3ms/step\n",
            "Epoch 119/130\n",
            "30/30 - 0s - loss: 0.1813 - acc: 0.9283 - val_loss: 0.1413 - val_acc: 0.9167 - 73ms/epoch - 2ms/step\n",
            "Epoch 120/130\n",
            "30/30 - 0s - loss: 0.1756 - acc: 0.9409 - val_loss: 0.1350 - val_acc: 0.9500 - 83ms/epoch - 3ms/step\n",
            "Epoch 121/130\n",
            "30/30 - 0s - loss: 0.1758 - acc: 0.9325 - val_loss: 0.1350 - val_acc: 0.9333 - 94ms/epoch - 3ms/step\n",
            "Epoch 122/130\n",
            "30/30 - 0s - loss: 0.1724 - acc: 0.9367 - val_loss: 0.1273 - val_acc: 0.9667 - 76ms/epoch - 3ms/step\n",
            "Epoch 123/130\n",
            "30/30 - 0s - loss: 0.1764 - acc: 0.9367 - val_loss: 0.1476 - val_acc: 0.9167 - 74ms/epoch - 2ms/step\n",
            "Epoch 124/130\n",
            "30/30 - 0s - loss: 0.1596 - acc: 0.9451 - val_loss: 0.1322 - val_acc: 0.9333 - 75ms/epoch - 3ms/step\n",
            "Epoch 125/130\n",
            "30/30 - 0s - loss: 0.1758 - acc: 0.9409 - val_loss: 0.1248 - val_acc: 0.9667 - 78ms/epoch - 3ms/step\n",
            "Epoch 126/130\n",
            "30/30 - 0s - loss: 0.1787 - acc: 0.9325 - val_loss: 0.1338 - val_acc: 0.9333 - 76ms/epoch - 3ms/step\n",
            "Epoch 127/130\n",
            "30/30 - 0s - loss: 0.1689 - acc: 0.9325 - val_loss: 0.1450 - val_acc: 0.9333 - 83ms/epoch - 3ms/step\n",
            "Epoch 128/130\n",
            "30/30 - 0s - loss: 0.1777 - acc: 0.9409 - val_loss: 0.1299 - val_acc: 0.9667 - 73ms/epoch - 2ms/step\n",
            "Epoch 129/130\n",
            "30/30 - 0s - loss: 0.1729 - acc: 0.9325 - val_loss: 0.1382 - val_acc: 0.9500 - 84ms/epoch - 3ms/step\n",
            "Epoch 130/130\n",
            "30/30 - 0s - loss: 0.1758 - acc: 0.9325 - val_loss: 0.1311 - val_acc: 0.9667 - 78ms/epoch - 3ms/step\n"
          ]
        }
      ]
    },
    {
      "cell_type": "markdown",
      "source": [
        "### Результаты обучения в виде кривых loss-функций (тренировочной и валидационной), а также acc (тренировочного и валидационного)\n",
        "\n"
      ],
      "metadata": {
        "id": "zLBfPEoGjXUC"
      }
    },
    {
      "cell_type": "code",
      "source": [
        "# plot loss curves\n",
        "plt.title('Loss Curves')\n",
        "plt.xlabel('Epoch')\n",
        "plt.ylabel('Mean Squared Error')\n",
        "plt.plot(history.history['loss'], label='train')\n",
        "plt.plot(history.history['val_loss'], label='val')\n",
        "plt.legend()\n",
        "plt.show()"
      ],
      "metadata": {
        "colab": {
          "base_uri": "https://localhost:8080/",
          "height": 295
        },
        "id": "YY0wKMB-8BJc",
        "outputId": "9fc1e175-27f3-49ed-b682-14e64cdee80f"
      },
      "execution_count": 7,
      "outputs": [
        {
          "output_type": "display_data",
          "data": {
            "text/plain": [
              "<Figure size 432x288 with 1 Axes>"
            ],
            "image/png": "[encoded data removed]"
          },
          "metadata": {
            "needs_background": "light"
          }
        }
      ]
    },
    {
      "cell_type": "code",
      "source": [
        "# plot acc curves\n",
        "plt.title('Accuracy Curves')\n",
        "plt.xlabel('Epoch')\n",
        "plt.ylabel('Mean Squared Error')\n",
        "plt.plot(history.history['acc'], label='train')\n",
        "plt.plot(history.history['val_acc'], label='val')\n",
        "plt.legend()\n",
        "plt.show()"
      ],
      "metadata": {
        "colab": {
          "base_uri": "https://localhost:8080/",
          "height": 295
        },
        "id": "KkhvyVgzkBKs",
        "outputId": "a5e1a3d0-e867-492f-fbd0-c6a7c4500802"
      },
      "execution_count": 8,
      "outputs": [
        {
          "output_type": "display_data",
          "data": {
            "text/plain": [
              "<Figure size 432x288 with 1 Axes>"
            ],
            "image/png": "[encoded data removed]"
          },
          "metadata": {
            "needs_background": "light"
          }
        }
      ]
    }
  ]
}